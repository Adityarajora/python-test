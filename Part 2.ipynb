{
 "cells": [
  {
   "cell_type": "code",
   "execution_count": 44,
   "metadata": {},
   "outputs": [
    {
     "data": {
      "text/html": [
       "\n",
       "    <div class=\"bk-root\">\n",
       "        <a href=\"https://bokeh.pydata.org\" target=\"_blank\" class=\"bk-logo bk-logo-small bk-logo-notebook\"></a>\n",
       "        <span id=\"760f0867-6752-4e34-bf67-20a31f708544\">Loading BokehJS ...</span>\n",
       "    </div>"
      ]
     },
     "metadata": {},
     "output_type": "display_data"
    },
    {
     "data": {
      "application/javascript": [
       "\n",
       "(function(root) {\n",
       "  function now() {\n",
       "    return new Date();\n",
       "  }\n",
       "\n",
       "  var force = true;\n",
       "\n",
       "  if (typeof (root._bokeh_onload_callbacks) === \"undefined\" || force === true) {\n",
       "    root._bokeh_onload_callbacks = [];\n",
       "    root._bokeh_is_loading = undefined;\n",
       "  }\n",
       "\n",
       "  var JS_MIME_TYPE = 'application/javascript';\n",
       "  var HTML_MIME_TYPE = 'text/html';\n",
       "  var EXEC_MIME_TYPE = 'application/vnd.bokehjs_exec.v0+json';\n",
       "  var CLASS_NAME = 'output_bokeh rendered_html';\n",
       "\n",
       "  /**\n",
       "   * Render data to the DOM node\n",
       "   */\n",
       "  function render(props, node) {\n",
       "    var script = document.createElement(\"script\");\n",
       "    node.appendChild(script);\n",
       "  }\n",
       "\n",
       "  /**\n",
       "   * Handle when an output is cleared or removed\n",
       "   */\n",
       "  function handleClearOutput(event, handle) {\n",
       "    var cell = handle.cell;\n",
       "\n",
       "    var id = cell.output_area._bokeh_element_id;\n",
       "    var server_id = cell.output_area._bokeh_server_id;\n",
       "    // Clean up Bokeh references\n",
       "    if (id !== undefined) {\n",
       "      Bokeh.index[id].model.document.clear();\n",
       "      delete Bokeh.index[id];\n",
       "    }\n",
       "\n",
       "    if (server_id !== undefined) {\n",
       "      // Clean up Bokeh references\n",
       "      var cmd = \"from bokeh.io.state import curstate; print(curstate().uuid_to_server['\" + server_id + \"'].get_sessions()[0].document.roots[0]._id)\";\n",
       "      cell.notebook.kernel.execute(cmd, {\n",
       "        iopub: {\n",
       "          output: function(msg) {\n",
       "            var element_id = msg.content.text.trim();\n",
       "            Bokeh.index[element_id].model.document.clear();\n",
       "            delete Bokeh.index[element_id];\n",
       "          }\n",
       "        }\n",
       "      });\n",
       "      // Destroy server and session\n",
       "      var cmd = \"import bokeh.io.notebook as ion; ion.destroy_server('\" + server_id + \"')\";\n",
       "      cell.notebook.kernel.execute(cmd);\n",
       "    }\n",
       "  }\n",
       "\n",
       "  /**\n",
       "   * Handle when a new output is added\n",
       "   */\n",
       "  function handleAddOutput(event, handle) {\n",
       "    var output_area = handle.output_area;\n",
       "    var output = handle.output;\n",
       "\n",
       "    // limit handleAddOutput to display_data with EXEC_MIME_TYPE content only\n",
       "    if ((output.output_type != \"display_data\") || (!output.data.hasOwnProperty(EXEC_MIME_TYPE))) {\n",
       "      return\n",
       "    }\n",
       "\n",
       "    var toinsert = output_area.element.find(`.${CLASS_NAME.split(' ')[0]}`);\n",
       "\n",
       "    if (output.metadata[EXEC_MIME_TYPE][\"id\"] !== undefined) {\n",
       "      toinsert[0].firstChild.textContent = output.data[JS_MIME_TYPE];\n",
       "      // store reference to embed id on output_area\n",
       "      output_area._bokeh_element_id = output.metadata[EXEC_MIME_TYPE][\"id\"];\n",
       "    }\n",
       "    if (output.metadata[EXEC_MIME_TYPE][\"server_id\"] !== undefined) {\n",
       "      var bk_div = document.createElement(\"div\");\n",
       "      bk_div.innerHTML = output.data[HTML_MIME_TYPE];\n",
       "      var script_attrs = bk_div.children[0].attributes;\n",
       "      for (var i = 0; i < script_attrs.length; i++) {\n",
       "        toinsert[0].firstChild.setAttribute(script_attrs[i].name, script_attrs[i].value);\n",
       "      }\n",
       "      // store reference to server id on output_area\n",
       "      output_area._bokeh_server_id = output.metadata[EXEC_MIME_TYPE][\"server_id\"];\n",
       "    }\n",
       "  }\n",
       "\n",
       "  function register_renderer(events, OutputArea) {\n",
       "\n",
       "    function append_mime(data, metadata, element) {\n",
       "      // create a DOM node to render to\n",
       "      var toinsert = this.create_output_subarea(\n",
       "        metadata,\n",
       "        CLASS_NAME,\n",
       "        EXEC_MIME_TYPE\n",
       "      );\n",
       "      this.keyboard_manager.register_events(toinsert);\n",
       "      // Render to node\n",
       "      var props = {data: data, metadata: metadata[EXEC_MIME_TYPE]};\n",
       "      render(props, toinsert[0]);\n",
       "      element.append(toinsert);\n",
       "      return toinsert\n",
       "    }\n",
       "\n",
       "    /* Handle when an output is cleared or removed */\n",
       "    events.on('clear_output.CodeCell', handleClearOutput);\n",
       "    events.on('delete.Cell', handleClearOutput);\n",
       "\n",
       "    /* Handle when a new output is added */\n",
       "    events.on('output_added.OutputArea', handleAddOutput);\n",
       "\n",
       "    /**\n",
       "     * Register the mime type and append_mime function with output_area\n",
       "     */\n",
       "    OutputArea.prototype.register_mime_type(EXEC_MIME_TYPE, append_mime, {\n",
       "      /* Is output safe? */\n",
       "      safe: true,\n",
       "      /* Index of renderer in `output_area.display_order` */\n",
       "      index: 0\n",
       "    });\n",
       "  }\n",
       "\n",
       "  // register the mime type if in Jupyter Notebook environment and previously unregistered\n",
       "  if (root.Jupyter !== undefined) {\n",
       "    var events = require('base/js/events');\n",
       "    var OutputArea = require('notebook/js/outputarea').OutputArea;\n",
       "\n",
       "    if (OutputArea.prototype.mime_types().indexOf(EXEC_MIME_TYPE) == -1) {\n",
       "      register_renderer(events, OutputArea);\n",
       "    }\n",
       "  }\n",
       "\n",
       "  \n",
       "  if (typeof (root._bokeh_timeout) === \"undefined\" || force === true) {\n",
       "    root._bokeh_timeout = Date.now() + 5000;\n",
       "    root._bokeh_failed_load = false;\n",
       "  }\n",
       "\n",
       "  var NB_LOAD_WARNING = {'data': {'text/html':\n",
       "     \"<div style='background-color: #fdd'>\\n\"+\n",
       "     \"<p>\\n\"+\n",
       "     \"BokehJS does not appear to have successfully loaded. If loading BokehJS from CDN, this \\n\"+\n",
       "     \"may be due to a slow or bad network connection. Possible fixes:\\n\"+\n",
       "     \"</p>\\n\"+\n",
       "     \"<ul>\\n\"+\n",
       "     \"<li>re-rerun `output_notebook()` to attempt to load from CDN again, or</li>\\n\"+\n",
       "     \"<li>use INLINE resources instead, as so:</li>\\n\"+\n",
       "     \"</ul>\\n\"+\n",
       "     \"<code>\\n\"+\n",
       "     \"from bokeh.resources import INLINE\\n\"+\n",
       "     \"output_notebook(resources=INLINE)\\n\"+\n",
       "     \"</code>\\n\"+\n",
       "     \"</div>\"}};\n",
       "\n",
       "  function display_loaded() {\n",
       "    var el = document.getElementById(\"760f0867-6752-4e34-bf67-20a31f708544\");\n",
       "    if (el != null) {\n",
       "      el.textContent = \"BokehJS is loading...\";\n",
       "    }\n",
       "    if (root.Bokeh !== undefined) {\n",
       "      if (el != null) {\n",
       "        el.textContent = \"BokehJS \" + root.Bokeh.version + \" successfully loaded.\";\n",
       "      }\n",
       "    } else if (Date.now() < root._bokeh_timeout) {\n",
       "      setTimeout(display_loaded, 100)\n",
       "    }\n",
       "  }\n",
       "\n",
       "\n",
       "  function run_callbacks() {\n",
       "    try {\n",
       "      root._bokeh_onload_callbacks.forEach(function(callback) { callback() });\n",
       "    }\n",
       "    finally {\n",
       "      delete root._bokeh_onload_callbacks\n",
       "    }\n",
       "    console.info(\"Bokeh: all callbacks have finished\");\n",
       "  }\n",
       "\n",
       "  function load_libs(js_urls, callback) {\n",
       "    root._bokeh_onload_callbacks.push(callback);\n",
       "    if (root._bokeh_is_loading > 0) {\n",
       "      console.log(\"Bokeh: BokehJS is being loaded, scheduling callback at\", now());\n",
       "      return null;\n",
       "    }\n",
       "    if (js_urls == null || js_urls.length === 0) {\n",
       "      run_callbacks();\n",
       "      return null;\n",
       "    }\n",
       "    console.log(\"Bokeh: BokehJS not loaded, scheduling load and callback at\", now());\n",
       "    root._bokeh_is_loading = js_urls.length;\n",
       "    for (var i = 0; i < js_urls.length; i++) {\n",
       "      var url = js_urls[i];\n",
       "      var s = document.createElement('script');\n",
       "      s.src = url;\n",
       "      s.async = false;\n",
       "      s.onreadystatechange = s.onload = function() {\n",
       "        root._bokeh_is_loading--;\n",
       "        if (root._bokeh_is_loading === 0) {\n",
       "          console.log(\"Bokeh: all BokehJS libraries loaded\");\n",
       "          run_callbacks()\n",
       "        }\n",
       "      };\n",
       "      s.onerror = function() {\n",
       "        console.warn(\"failed to load library \" + url);\n",
       "      };\n",
       "      console.log(\"Bokeh: injecting script tag for BokehJS library: \", url);\n",
       "      document.getElementsByTagName(\"head\")[0].appendChild(s);\n",
       "    }\n",
       "  };var element = document.getElementById(\"760f0867-6752-4e34-bf67-20a31f708544\");\n",
       "  if (element == null) {\n",
       "    console.log(\"Bokeh: ERROR: autoload.js configured with elementid '760f0867-6752-4e34-bf67-20a31f708544' but no matching script tag was found. \")\n",
       "    return false;\n",
       "  }\n",
       "\n",
       "  var js_urls = [\"https://cdn.pydata.org/bokeh/release/bokeh-0.12.10.min.js\", \"https://cdn.pydata.org/bokeh/release/bokeh-widgets-0.12.10.min.js\", \"https://cdn.pydata.org/bokeh/release/bokeh-tables-0.12.10.min.js\", \"https://cdn.pydata.org/bokeh/release/bokeh-gl-0.12.10.min.js\"];\n",
       "\n",
       "  var inline_js = [\n",
       "    function(Bokeh) {\n",
       "      Bokeh.set_log_level(\"info\");\n",
       "    },\n",
       "    \n",
       "    function(Bokeh) {\n",
       "      \n",
       "    },\n",
       "    function(Bokeh) {\n",
       "      console.log(\"Bokeh: injecting CSS: https://cdn.pydata.org/bokeh/release/bokeh-0.12.10.min.css\");\n",
       "      Bokeh.embed.inject_css(\"https://cdn.pydata.org/bokeh/release/bokeh-0.12.10.min.css\");\n",
       "      console.log(\"Bokeh: injecting CSS: https://cdn.pydata.org/bokeh/release/bokeh-widgets-0.12.10.min.css\");\n",
       "      Bokeh.embed.inject_css(\"https://cdn.pydata.org/bokeh/release/bokeh-widgets-0.12.10.min.css\");\n",
       "      console.log(\"Bokeh: injecting CSS: https://cdn.pydata.org/bokeh/release/bokeh-tables-0.12.10.min.css\");\n",
       "      Bokeh.embed.inject_css(\"https://cdn.pydata.org/bokeh/release/bokeh-tables-0.12.10.min.css\");\n",
       "    }\n",
       "  ];\n",
       "\n",
       "  function run_inline_js() {\n",
       "    \n",
       "    if ((root.Bokeh !== undefined) || (force === true)) {\n",
       "      for (var i = 0; i < inline_js.length; i++) {\n",
       "        inline_js[i].call(root, root.Bokeh);\n",
       "      }if (force === true) {\n",
       "        display_loaded();\n",
       "      }} else if (Date.now() < root._bokeh_timeout) {\n",
       "      setTimeout(run_inline_js, 100);\n",
       "    } else if (!root._bokeh_failed_load) {\n",
       "      console.log(\"Bokeh: BokehJS failed to load within specified timeout.\");\n",
       "      root._bokeh_failed_load = true;\n",
       "    } else if (force !== true) {\n",
       "      var cell = $(document.getElementById(\"760f0867-6752-4e34-bf67-20a31f708544\")).parents('.cell').data().cell;\n",
       "      cell.output_area.append_execute_result(NB_LOAD_WARNING)\n",
       "    }\n",
       "\n",
       "  }\n",
       "\n",
       "  if (root._bokeh_is_loading === 0) {\n",
       "    console.log(\"Bokeh: BokehJS loaded, going straight to plotting\");\n",
       "    run_inline_js();\n",
       "  } else {\n",
       "    load_libs(js_urls, function() {\n",
       "      console.log(\"Bokeh: BokehJS plotting callback run at\", now());\n",
       "      run_inline_js();\n",
       "    });\n",
       "  }\n",
       "}(window));"
      ],
      "application/vnd.bokehjs_load.v0+json": "\n(function(root) {\n  function now() {\n    return new Date();\n  }\n\n  var force = true;\n\n  if (typeof (root._bokeh_onload_callbacks) === \"undefined\" || force === true) {\n    root._bokeh_onload_callbacks = [];\n    root._bokeh_is_loading = undefined;\n  }\n\n  \n\n  \n  if (typeof (root._bokeh_timeout) === \"undefined\" || force === true) {\n    root._bokeh_timeout = Date.now() + 5000;\n    root._bokeh_failed_load = false;\n  }\n\n  var NB_LOAD_WARNING = {'data': {'text/html':\n     \"<div style='background-color: #fdd'>\\n\"+\n     \"<p>\\n\"+\n     \"BokehJS does not appear to have successfully loaded. If loading BokehJS from CDN, this \\n\"+\n     \"may be due to a slow or bad network connection. Possible fixes:\\n\"+\n     \"</p>\\n\"+\n     \"<ul>\\n\"+\n     \"<li>re-rerun `output_notebook()` to attempt to load from CDN again, or</li>\\n\"+\n     \"<li>use INLINE resources instead, as so:</li>\\n\"+\n     \"</ul>\\n\"+\n     \"<code>\\n\"+\n     \"from bokeh.resources import INLINE\\n\"+\n     \"output_notebook(resources=INLINE)\\n\"+\n     \"</code>\\n\"+\n     \"</div>\"}};\n\n  function display_loaded() {\n    var el = document.getElementById(\"760f0867-6752-4e34-bf67-20a31f708544\");\n    if (el != null) {\n      el.textContent = \"BokehJS is loading...\";\n    }\n    if (root.Bokeh !== undefined) {\n      if (el != null) {\n        el.textContent = \"BokehJS \" + root.Bokeh.version + \" successfully loaded.\";\n      }\n    } else if (Date.now() < root._bokeh_timeout) {\n      setTimeout(display_loaded, 100)\n    }\n  }\n\n\n  function run_callbacks() {\n    try {\n      root._bokeh_onload_callbacks.forEach(function(callback) { callback() });\n    }\n    finally {\n      delete root._bokeh_onload_callbacks\n    }\n    console.info(\"Bokeh: all callbacks have finished\");\n  }\n\n  function load_libs(js_urls, callback) {\n    root._bokeh_onload_callbacks.push(callback);\n    if (root._bokeh_is_loading > 0) {\n      console.log(\"Bokeh: BokehJS is being loaded, scheduling callback at\", now());\n      return null;\n    }\n    if (js_urls == null || js_urls.length === 0) {\n      run_callbacks();\n      return null;\n    }\n    console.log(\"Bokeh: BokehJS not loaded, scheduling load and callback at\", now());\n    root._bokeh_is_loading = js_urls.length;\n    for (var i = 0; i < js_urls.length; i++) {\n      var url = js_urls[i];\n      var s = document.createElement('script');\n      s.src = url;\n      s.async = false;\n      s.onreadystatechange = s.onload = function() {\n        root._bokeh_is_loading--;\n        if (root._bokeh_is_loading === 0) {\n          console.log(\"Bokeh: all BokehJS libraries loaded\");\n          run_callbacks()\n        }\n      };\n      s.onerror = function() {\n        console.warn(\"failed to load library \" + url);\n      };\n      console.log(\"Bokeh: injecting script tag for BokehJS library: \", url);\n      document.getElementsByTagName(\"head\")[0].appendChild(s);\n    }\n  };var element = document.getElementById(\"760f0867-6752-4e34-bf67-20a31f708544\");\n  if (element == null) {\n    console.log(\"Bokeh: ERROR: autoload.js configured with elementid '760f0867-6752-4e34-bf67-20a31f708544' but no matching script tag was found. \")\n    return false;\n  }\n\n  var js_urls = [\"https://cdn.pydata.org/bokeh/release/bokeh-0.12.10.min.js\", \"https://cdn.pydata.org/bokeh/release/bokeh-widgets-0.12.10.min.js\", \"https://cdn.pydata.org/bokeh/release/bokeh-tables-0.12.10.min.js\", \"https://cdn.pydata.org/bokeh/release/bokeh-gl-0.12.10.min.js\"];\n\n  var inline_js = [\n    function(Bokeh) {\n      Bokeh.set_log_level(\"info\");\n    },\n    \n    function(Bokeh) {\n      \n    },\n    function(Bokeh) {\n      console.log(\"Bokeh: injecting CSS: https://cdn.pydata.org/bokeh/release/bokeh-0.12.10.min.css\");\n      Bokeh.embed.inject_css(\"https://cdn.pydata.org/bokeh/release/bokeh-0.12.10.min.css\");\n      console.log(\"Bokeh: injecting CSS: https://cdn.pydata.org/bokeh/release/bokeh-widgets-0.12.10.min.css\");\n      Bokeh.embed.inject_css(\"https://cdn.pydata.org/bokeh/release/bokeh-widgets-0.12.10.min.css\");\n      console.log(\"Bokeh: injecting CSS: https://cdn.pydata.org/bokeh/release/bokeh-tables-0.12.10.min.css\");\n      Bokeh.embed.inject_css(\"https://cdn.pydata.org/bokeh/release/bokeh-tables-0.12.10.min.css\");\n    }\n  ];\n\n  function run_inline_js() {\n    \n    if ((root.Bokeh !== undefined) || (force === true)) {\n      for (var i = 0; i < inline_js.length; i++) {\n        inline_js[i].call(root, root.Bokeh);\n      }if (force === true) {\n        display_loaded();\n      }} else if (Date.now() < root._bokeh_timeout) {\n      setTimeout(run_inline_js, 100);\n    } else if (!root._bokeh_failed_load) {\n      console.log(\"Bokeh: BokehJS failed to load within specified timeout.\");\n      root._bokeh_failed_load = true;\n    } else if (force !== true) {\n      var cell = $(document.getElementById(\"760f0867-6752-4e34-bf67-20a31f708544\")).parents('.cell').data().cell;\n      cell.output_area.append_execute_result(NB_LOAD_WARNING)\n    }\n\n  }\n\n  if (root._bokeh_is_loading === 0) {\n    console.log(\"Bokeh: BokehJS loaded, going straight to plotting\");\n    run_inline_js();\n  } else {\n    load_libs(js_urls, function() {\n      console.log(\"Bokeh: BokehJS plotting callback run at\", now());\n      run_inline_js();\n    });\n  }\n}(window));"
     },
     "metadata": {},
     "output_type": "display_data"
    }
   ],
   "source": [
    "from bokeh.plotting import figure \n",
    "from bokeh.io import output_notebook, show\n",
    "import nsepy as n\n",
    "from datetime import *\n",
    "import pandas as pd\n",
    "import matplotlib.pyplot as plt\n",
    "%matplotlib inline\n",
    "import numpy as np\n",
    "output_notebook()"
   ]
  },
  {
   "cell_type": "code",
   "execution_count": 30,
   "metadata": {
    "collapsed": true
   },
   "outputs": [],
   "source": [
    "def fun1(s):\n",
    "    if s=='INFY':\n",
    "        infy = n.get_history(symbol='INFY', start=date(2015,1,1), end=date(2015,12,31))\n",
    "        p = figure(width=500, height=500)\n",
    "        p.line(range(248), infy['Close'],line_width=2)\n",
    "        p.xaxis.axis_label = 'TimeSeries'\n",
    "        p.yaxis.axis_label = 'Close Prices'\n",
    "        show(p)\n",
    "    else:\n",
    "        tcs = n.get_history(symbol='TCS', start=date(2015,1,1), end=date(2015,12,31))\n",
    "        p = figure(width=500, height=500)\n",
    "        p.line(range(248), tcs['Close'],line_width=2)\n",
    "        p.xaxis.axis_label = 'TimeSeries'\n",
    "        p.yaxis.axis_label = 'Close Prices'\n",
    "        show(p)"
   ]
  },
  {
   "cell_type": "code",
   "execution_count": 51,
   "metadata": {},
   "outputs": [
    {
     "data": {
      "text/html": [
       "\n",
       "<div class=\"bk-root\">\n",
       "    <div class=\"bk-plotdiv\" id=\"54785f01-deb1-4301-9f6b-cdfeca6a7a0f\"></div>\n",
       "</div>"
      ]
     },
     "metadata": {},
     "output_type": "display_data"
    },
    {
     "data": {
      "application/javascript": [
       "(function(root) {\n",
       "  function embed_document(root) {\n",
       "    var docs_json = {\"cafbadef-314f-47f2-b54b-68ab9dd6b359\":{\"roots\":{\"references\":[{\"attributes\":{\"plot\":null,\"text\":\"\"},\"id\":\"e69a05b5-f6bd-4e59-9baa-f98c12f775fb\",\"type\":\"Title\"},{\"attributes\":{\"callback\":null},\"id\":\"ac6634d8-46fa-4426-9b62-6946b1fb56b8\",\"type\":\"DataRange1d\"},{\"attributes\":{},\"id\":\"4fa3bc2f-b555-4d36-b561-9e4760f10bfc\",\"type\":\"LinearScale\"},{\"attributes\":{},\"id\":\"19017784-a673-4884-9e0a-5615e97f1012\",\"type\":\"BasicTicker\"},{\"attributes\":{\"axis_label\":\"TimeSeries\",\"formatter\":{\"id\":\"397ea80d-4cf8-4a16-87d6-9c3ba7226126\",\"type\":\"BasicTickFormatter\"},\"plot\":{\"id\":\"935a492d-4861-4c13-8267-94ee77ba791e\",\"subtype\":\"Figure\",\"type\":\"Plot\"},\"ticker\":{\"id\":\"3db8bf7d-263e-4161-b2ee-60f10a3d4bd7\",\"type\":\"BasicTicker\"}},\"id\":\"6ef2d230-5137-4394-b686-2e449b482b91\",\"type\":\"LinearAxis\"},{\"attributes\":{\"active_drag\":\"auto\",\"active_inspect\":\"auto\",\"active_scroll\":\"auto\",\"active_tap\":\"auto\",\"tools\":[{\"id\":\"b7252e6c-7c94-41c5-9a68-d77fbbdbca71\",\"type\":\"PanTool\"},{\"id\":\"ecdf0ba8-13f8-4ae9-a747-81b7755bbd72\",\"type\":\"WheelZoomTool\"},{\"id\":\"61f237e2-965b-4694-847b-f59308fa0319\",\"type\":\"BoxZoomTool\"},{\"id\":\"c3bd7cc0-be67-4dea-9f4c-045f4997f59b\",\"type\":\"SaveTool\"},{\"id\":\"41ff1ed7-3d95-4a21-bc90-9a1ed3e08c46\",\"type\":\"ResetTool\"},{\"id\":\"f6422ee4-bc8f-493d-8b5c-9ce1dfc3cfd4\",\"type\":\"HelpTool\"}]},\"id\":\"146e0eed-66d2-4b0f-b608-ffcb25b8e34b\",\"type\":\"Toolbar\"},{\"attributes\":{},\"id\":\"41ff1ed7-3d95-4a21-bc90-9a1ed3e08c46\",\"type\":\"ResetTool\"},{\"attributes\":{\"callback\":null},\"id\":\"1becc75a-c627-437a-a0ea-35386c96ba53\",\"type\":\"DataRange1d\"},{\"attributes\":{\"axis_label\":\"Close Prices\",\"formatter\":{\"id\":\"45193cf3-b469-4fd5-b944-8ce86c31e300\",\"type\":\"BasicTickFormatter\"},\"plot\":{\"id\":\"935a492d-4861-4c13-8267-94ee77ba791e\",\"subtype\":\"Figure\",\"type\":\"Plot\"},\"ticker\":{\"id\":\"19017784-a673-4884-9e0a-5615e97f1012\",\"type\":\"BasicTicker\"}},\"id\":\"b7fa5a3c-0dbe-476d-91f6-2288dcbaebed\",\"type\":\"LinearAxis\"},{\"attributes\":{\"overlay\":{\"id\":\"43523aba-22d6-461e-a8e1-690ae8d5a0f5\",\"type\":\"BoxAnnotation\"}},\"id\":\"61f237e2-965b-4694-847b-f59308fa0319\",\"type\":\"BoxZoomTool\"},{\"attributes\":{\"line_alpha\":{\"value\":0.1},\"line_color\":{\"value\":\"#1f77b4\"},\"line_width\":{\"value\":2},\"x\":{\"field\":\"x\"},\"y\":{\"field\":\"y\"}},\"id\":\"cb9f9f88-34de-4895-95e8-60c138b93f35\",\"type\":\"Line\"},{\"attributes\":{},\"id\":\"397ea80d-4cf8-4a16-87d6-9c3ba7226126\",\"type\":\"BasicTickFormatter\"},{\"attributes\":{},\"id\":\"f6422ee4-bc8f-493d-8b5c-9ce1dfc3cfd4\",\"type\":\"HelpTool\"},{\"attributes\":{\"bottom_units\":\"screen\",\"fill_alpha\":{\"value\":0.5},\"fill_color\":{\"value\":\"lightgrey\"},\"left_units\":\"screen\",\"level\":\"overlay\",\"line_alpha\":{\"value\":1.0},\"line_color\":{\"value\":\"black\"},\"line_dash\":[4,4],\"line_width\":{\"value\":2},\"plot\":null,\"render_mode\":\"css\",\"right_units\":\"screen\",\"top_units\":\"screen\"},\"id\":\"43523aba-22d6-461e-a8e1-690ae8d5a0f5\",\"type\":\"BoxAnnotation\"},{\"attributes\":{\"dimension\":1,\"plot\":{\"id\":\"935a492d-4861-4c13-8267-94ee77ba791e\",\"subtype\":\"Figure\",\"type\":\"Plot\"},\"ticker\":{\"id\":\"19017784-a673-4884-9e0a-5615e97f1012\",\"type\":\"BasicTicker\"}},\"id\":\"8d56110d-4d73-4159-ade4-e3f8c181b698\",\"type\":\"Grid\"},{\"attributes\":{},\"id\":\"6117aaf1-e747-451a-8514-4b6b1e4663b1\",\"type\":\"LinearScale\"},{\"attributes\":{\"callback\":null,\"column_names\":[\"x\",\"y\"],\"data\":{\"x\":[0,1,2,3,4,5,6,7,8,9,10,11,12,13,14,15,16,17,18,19,20,21,22,23,24,25,26,27,28,29,30,31,32,33,34,35,36,37,38,39,40,41,42,43,44,45,46,47,48,49,50,51,52,53,54,55,56,57,58,59,60,61,62,63,64,65,66,67,68,69,70,71,72,73,74,75,76,77,78,79,80,81,82,83,84,85,86,87,88,89,90,91,92,93,94,95,96,97,98,99,100,101,102,103,104,105,106,107,108,109,110,111,112,113,114,115,116,117,118,119,120,121,122,123,124,125,126,127,128,129,130,131,132,133,134,135,136,137,138,139,140,141,142,143,144,145,146,147,148,149,150,151,152,153,154,155,156,157,158,159,160,161,162,163,164,165,166,167,168,169,170,171,172,173,174,175,176,177,178,179,180,181,182,183,184,185,186,187,188,189,190,191,192,193,194,195,196,197,198,199,200,201,202,203,204,205,206,207,208,209,210,211,212,213,214,215,216,217,218,219,220,221,222,223,224,225,226,227,228,229,230,231,232,233,234,235,236,237,238,239,240,241,242,243,244,245,246,247],\"y\":{\"__ndarray__\":\"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\",\"dtype\":\"float64\",\"shape\":[248]}}},\"id\":\"037234bd-306b-473e-a24f-22b6bf1de92c\",\"type\":\"ColumnDataSource\"},{\"attributes\":{\"line_color\":{\"value\":\"#1f77b4\"},\"line_width\":{\"value\":2},\"x\":{\"field\":\"x\"},\"y\":{\"field\":\"y\"}},\"id\":\"dc669a26-6640-4d24-b54f-4563f8a1dccf\",\"type\":\"Line\"},{\"attributes\":{\"below\":[{\"id\":\"6ef2d230-5137-4394-b686-2e449b482b91\",\"type\":\"LinearAxis\"}],\"left\":[{\"id\":\"b7fa5a3c-0dbe-476d-91f6-2288dcbaebed\",\"type\":\"LinearAxis\"}],\"plot_height\":500,\"plot_width\":500,\"renderers\":[{\"id\":\"6ef2d230-5137-4394-b686-2e449b482b91\",\"type\":\"LinearAxis\"},{\"id\":\"bf801d0a-d968-407a-bde3-eca2af740e9d\",\"type\":\"Grid\"},{\"id\":\"b7fa5a3c-0dbe-476d-91f6-2288dcbaebed\",\"type\":\"LinearAxis\"},{\"id\":\"8d56110d-4d73-4159-ade4-e3f8c181b698\",\"type\":\"Grid\"},{\"id\":\"43523aba-22d6-461e-a8e1-690ae8d5a0f5\",\"type\":\"BoxAnnotation\"},{\"id\":\"c884968e-201d-4782-846f-2d5097425264\",\"type\":\"GlyphRenderer\"}],\"title\":{\"id\":\"e69a05b5-f6bd-4e59-9baa-f98c12f775fb\",\"type\":\"Title\"},\"toolbar\":{\"id\":\"146e0eed-66d2-4b0f-b608-ffcb25b8e34b\",\"type\":\"Toolbar\"},\"x_range\":{\"id\":\"ac6634d8-46fa-4426-9b62-6946b1fb56b8\",\"type\":\"DataRange1d\"},\"x_scale\":{\"id\":\"4fa3bc2f-b555-4d36-b561-9e4760f10bfc\",\"type\":\"LinearScale\"},\"y_range\":{\"id\":\"1becc75a-c627-437a-a0ea-35386c96ba53\",\"type\":\"DataRange1d\"},\"y_scale\":{\"id\":\"6117aaf1-e747-451a-8514-4b6b1e4663b1\",\"type\":\"LinearScale\"}},\"id\":\"935a492d-4861-4c13-8267-94ee77ba791e\",\"subtype\":\"Figure\",\"type\":\"Plot\"},{\"attributes\":{},\"id\":\"3db8bf7d-263e-4161-b2ee-60f10a3d4bd7\",\"type\":\"BasicTicker\"},{\"attributes\":{\"plot\":{\"id\":\"935a492d-4861-4c13-8267-94ee77ba791e\",\"subtype\":\"Figure\",\"type\":\"Plot\"},\"ticker\":{\"id\":\"3db8bf7d-263e-4161-b2ee-60f10a3d4bd7\",\"type\":\"BasicTicker\"}},\"id\":\"bf801d0a-d968-407a-bde3-eca2af740e9d\",\"type\":\"Grid\"},{\"attributes\":{},\"id\":\"b7252e6c-7c94-41c5-9a68-d77fbbdbca71\",\"type\":\"PanTool\"},{\"attributes\":{\"data_source\":{\"id\":\"037234bd-306b-473e-a24f-22b6bf1de92c\",\"type\":\"ColumnDataSource\"},\"glyph\":{\"id\":\"dc669a26-6640-4d24-b54f-4563f8a1dccf\",\"type\":\"Line\"},\"hover_glyph\":null,\"muted_glyph\":null,\"nonselection_glyph\":{\"id\":\"cb9f9f88-34de-4895-95e8-60c138b93f35\",\"type\":\"Line\"},\"selection_glyph\":null,\"view\":{\"id\":\"44c8d8d6-c4a0-4493-8156-b05440c5802c\",\"type\":\"CDSView\"}},\"id\":\"c884968e-201d-4782-846f-2d5097425264\",\"type\":\"GlyphRenderer\"},{\"attributes\":{},\"id\":\"45193cf3-b469-4fd5-b944-8ce86c31e300\",\"type\":\"BasicTickFormatter\"},{\"attributes\":{},\"id\":\"ecdf0ba8-13f8-4ae9-a747-81b7755bbd72\",\"type\":\"WheelZoomTool\"},{\"attributes\":{},\"id\":\"c3bd7cc0-be67-4dea-9f4c-045f4997f59b\",\"type\":\"SaveTool\"},{\"attributes\":{\"source\":{\"id\":\"037234bd-306b-473e-a24f-22b6bf1de92c\",\"type\":\"ColumnDataSource\"}},\"id\":\"44c8d8d6-c4a0-4493-8156-b05440c5802c\",\"type\":\"CDSView\"}],\"root_ids\":[\"935a492d-4861-4c13-8267-94ee77ba791e\"]},\"title\":\"Bokeh Application\",\"version\":\"0.12.10\"}};\n",
       "    var render_items = [{\"docid\":\"cafbadef-314f-47f2-b54b-68ab9dd6b359\",\"elementid\":\"54785f01-deb1-4301-9f6b-cdfeca6a7a0f\",\"modelid\":\"935a492d-4861-4c13-8267-94ee77ba791e\"}];\n",
       "\n",
       "    root.Bokeh.embed.embed_items(docs_json, render_items);\n",
       "  }\n",
       "\n",
       "  if (root.Bokeh !== undefined) {\n",
       "    embed_document(root);\n",
       "  } else {\n",
       "    var attempts = 0;\n",
       "    var timer = setInterval(function(root) {\n",
       "      if (root.Bokeh !== undefined) {\n",
       "        embed_document(root);\n",
       "        clearInterval(timer);\n",
       "      }\n",
       "      attempts++;\n",
       "      if (attempts > 100) {\n",
       "        console.log(\"Bokeh: ERROR: Unable to embed document because BokehJS library is missing\")\n",
       "        clearInterval(timer);\n",
       "      }\n",
       "    }, 10, root)\n",
       "  }\n",
       "})(window);"
      ],
      "application/vnd.bokehjs_exec.v0+json": ""
     },
     "metadata": {
      "application/vnd.bokehjs_exec.v0+json": {
       "id": "935a492d-4861-4c13-8267-94ee77ba791e"
      }
     },
     "output_type": "display_data"
    }
   ],
   "source": [
    "fun1('INFY') # Part 2.1"
   ]
  },
  {
   "cell_type": "code",
   "execution_count": 31,
   "metadata": {
    "scrolled": true
   },
   "outputs": [
    {
     "data": {
      "text/html": [
       "\n",
       "<div class=\"bk-root\">\n",
       "    <div class=\"bk-plotdiv\" id=\"4fbe00fd-80ae-4bd5-9bbd-5ef7a6975e8e\"></div>\n",
       "</div>"
      ]
     },
     "metadata": {},
     "output_type": "display_data"
    },
    {
     "data": {
      "application/javascript": [
       "(function(root) {\n",
       "  function embed_document(root) {\n",
       "    var docs_json = {\"28decb8c-fbd4-42ed-906d-dd67914b9aae\":{\"roots\":{\"references\":[{\"attributes\":{\"data_source\":{\"id\":\"dcf00cef-d118-478c-8103-5bc92de550eb\",\"type\":\"ColumnDataSource\"},\"glyph\":{\"id\":\"15e7d15a-dbaa-4a93-92b5-7d2f8fc20d30\",\"type\":\"Line\"},\"hover_glyph\":null,\"muted_glyph\":null,\"nonselection_glyph\":{\"id\":\"72e7e87f-2b37-42ff-be9d-241ee165325c\",\"type\":\"Line\"},\"selection_glyph\":null,\"view\":{\"id\":\"9e7e9398-3fe2-4596-a2da-ff9088780b82\",\"type\":\"CDSView\"}},\"id\":\"1951eae5-b1fe-4bc3-a3b6-39340a563b40\",\"type\":\"GlyphRenderer\"},{\"attributes\":{},\"id\":\"e380af32-a0b0-4f75-8b82-f73b6ec4e08a\",\"type\":\"SaveTool\"},{\"attributes\":{\"source\":{\"id\":\"dcf00cef-d118-478c-8103-5bc92de550eb\",\"type\":\"ColumnDataSource\"}},\"id\":\"9e7e9398-3fe2-4596-a2da-ff9088780b82\",\"type\":\"CDSView\"},{\"attributes\":{},\"id\":\"6a55bb85-1652-433f-b8b9-ef2e809fa200\",\"type\":\"LinearScale\"},{\"attributes\":{\"active_drag\":\"auto\",\"active_inspect\":\"auto\",\"active_scroll\":\"auto\",\"active_tap\":\"auto\",\"tools\":[{\"id\":\"bbc5472a-ee9d-4a0f-ae29-476e309901a1\",\"type\":\"PanTool\"},{\"id\":\"32898aed-b0ca-4c4d-afa5-116e5547dde0\",\"type\":\"WheelZoomTool\"},{\"id\":\"e6e45ad1-1ddd-4903-ab9f-127f1466e785\",\"type\":\"BoxZoomTool\"},{\"id\":\"e380af32-a0b0-4f75-8b82-f73b6ec4e08a\",\"type\":\"SaveTool\"},{\"id\":\"e2c7037e-5978-47c1-b182-82e70f687d58\",\"type\":\"ResetTool\"},{\"id\":\"bf2d7ead-e3f6-40e6-9300-34254b7eaca9\",\"type\":\"HelpTool\"}]},\"id\":\"77f953a6-312b-4dc8-91f7-4968e10e062c\",\"type\":\"Toolbar\"},{\"attributes\":{\"line_color\":{\"value\":\"#1f77b4\"},\"line_width\":{\"value\":2},\"x\":{\"field\":\"x\"},\"y\":{\"field\":\"y\"}},\"id\":\"15e7d15a-dbaa-4a93-92b5-7d2f8fc20d30\",\"type\":\"Line\"},{\"attributes\":{\"bottom_units\":\"screen\",\"fill_alpha\":{\"value\":0.5},\"fill_color\":{\"value\":\"lightgrey\"},\"left_units\":\"screen\",\"level\":\"overlay\",\"line_alpha\":{\"value\":1.0},\"line_color\":{\"value\":\"black\"},\"line_dash\":[4,4],\"line_width\":{\"value\":2},\"plot\":null,\"render_mode\":\"css\",\"right_units\":\"screen\",\"top_units\":\"screen\"},\"id\":\"6236ff1f-873b-4805-ba47-76ba46c3a4cd\",\"type\":\"BoxAnnotation\"},{\"attributes\":{},\"id\":\"32287809-8b63-44b8-bcd4-711e7202c638\",\"type\":\"BasicTicker\"},{\"attributes\":{\"line_alpha\":{\"value\":0.1},\"line_color\":{\"value\":\"#1f77b4\"},\"line_width\":{\"value\":2},\"x\":{\"field\":\"x\"},\"y\":{\"field\":\"y\"}},\"id\":\"72e7e87f-2b37-42ff-be9d-241ee165325c\",\"type\":\"Line\"},{\"attributes\":{\"callback\":null},\"id\":\"84b226b0-1893-47dd-8ca7-c70921dcd7e6\",\"type\":\"DataRange1d\"},{\"attributes\":{\"plot\":{\"id\":\"f02d8c4c-a617-4b4a-b4da-60eb96ca5c1c\",\"subtype\":\"Figure\",\"type\":\"Plot\"},\"ticker\":{\"id\":\"32287809-8b63-44b8-bcd4-711e7202c638\",\"type\":\"BasicTicker\"}},\"id\":\"a86cff8a-5d66-4f25-afb0-4b3be293ae0c\",\"type\":\"Grid\"},{\"attributes\":{},\"id\":\"bf2d7ead-e3f6-40e6-9300-34254b7eaca9\",\"type\":\"HelpTool\"},{\"attributes\":{},\"id\":\"a7e5f77b-bdcb-46fc-8a12-c02065e2a865\",\"type\":\"BasicTickFormatter\"},{\"attributes\":{},\"id\":\"352d821b-8496-4ceb-b607-6e317c157cd1\",\"type\":\"BasicTicker\"},{\"attributes\":{\"axis_label\":\"TimeSeries\",\"formatter\":{\"id\":\"81d4baab-0e32-4891-99b5-79d2651d6ee0\",\"type\":\"BasicTickFormatter\"},\"plot\":{\"id\":\"f02d8c4c-a617-4b4a-b4da-60eb96ca5c1c\",\"subtype\":\"Figure\",\"type\":\"Plot\"},\"ticker\":{\"id\":\"32287809-8b63-44b8-bcd4-711e7202c638\",\"type\":\"BasicTicker\"}},\"id\":\"36be7831-b921-4a36-b0d0-88f80ec05d00\",\"type\":\"LinearAxis\"},{\"attributes\":{\"callback\":null},\"id\":\"42479b23-4978-4478-87bc-c52a5a8c29a7\",\"type\":\"DataRange1d\"},{\"attributes\":{\"callback\":null,\"column_names\":[\"x\",\"y\"],\"data\":{\"x\":[0,1,2,3,4,5,6,7,8,9,10,11,12,13,14,15,16,17,18,19,20,21,22,23,24,25,26,27,28,29,30,31,32,33,34,35,36,37,38,39,40,41,42,43,44,45,46,47,48,49,50,51,52,53,54,55,56,57,58,59,60,61,62,63,64,65,66,67,68,69,70,71,72,73,74,75,76,77,78,79,80,81,82,83,84,85,86,87,88,89,90,91,92,93,94,95,96,97,98,99,100,101,102,103,104,105,106,107,108,109,110,111,112,113,114,115,116,117,118,119,120,121,122,123,124,125,126,127,128,129,130,131,132,133,134,135,136,137,138,139,140,141,142,143,144,145,146,147,148,149,150,151,152,153,154,155,156,157,158,159,160,161,162,163,164,165,166,167,168,169,170,171,172,173,174,175,176,177,178,179,180,181,182,183,184,185,186,187,188,189,190,191,192,193,194,195,196,197,198,199,200,201,202,203,204,205,206,207,208,209,210,211,212,213,214,215,216,217,218,219,220,221,222,223,224,225,226,227,228,229,230,231,232,233,234,235,236,237,238,239,240,241,242,243,244,245,246,247],\"y\":{\"__ndarray__\":\"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\",\"dtype\":\"float64\",\"shape\":[248]}}},\"id\":\"dcf00cef-d118-478c-8103-5bc92de550eb\",\"type\":\"ColumnDataSource\"},{\"attributes\":{},\"id\":\"ab98a540-5bc5-4eb1-8e96-7cf10a8d2161\",\"type\":\"LinearScale\"},{\"attributes\":{\"axis_label\":\"Close Prices\",\"formatter\":{\"id\":\"a7e5f77b-bdcb-46fc-8a12-c02065e2a865\",\"type\":\"BasicTickFormatter\"},\"plot\":{\"id\":\"f02d8c4c-a617-4b4a-b4da-60eb96ca5c1c\",\"subtype\":\"Figure\",\"type\":\"Plot\"},\"ticker\":{\"id\":\"352d821b-8496-4ceb-b607-6e317c157cd1\",\"type\":\"BasicTicker\"}},\"id\":\"6e6ca449-b73a-462a-a808-a464f7af9e45\",\"type\":\"LinearAxis\"},{\"attributes\":{},\"id\":\"e2c7037e-5978-47c1-b182-82e70f687d58\",\"type\":\"ResetTool\"},{\"attributes\":{\"dimension\":1,\"plot\":{\"id\":\"f02d8c4c-a617-4b4a-b4da-60eb96ca5c1c\",\"subtype\":\"Figure\",\"type\":\"Plot\"},\"ticker\":{\"id\":\"352d821b-8496-4ceb-b607-6e317c157cd1\",\"type\":\"BasicTicker\"}},\"id\":\"91ce2433-9dfd-4951-8228-cd95db06517c\",\"type\":\"Grid\"},{\"attributes\":{},\"id\":\"bbc5472a-ee9d-4a0f-ae29-476e309901a1\",\"type\":\"PanTool\"},{\"attributes\":{},\"id\":\"81d4baab-0e32-4891-99b5-79d2651d6ee0\",\"type\":\"BasicTickFormatter\"},{\"attributes\":{},\"id\":\"32898aed-b0ca-4c4d-afa5-116e5547dde0\",\"type\":\"WheelZoomTool\"},{\"attributes\":{\"plot\":null,\"text\":\"\"},\"id\":\"2beaed32-23ef-4a41-98a0-a6074217f3d2\",\"type\":\"Title\"},{\"attributes\":{\"below\":[{\"id\":\"36be7831-b921-4a36-b0d0-88f80ec05d00\",\"type\":\"LinearAxis\"}],\"left\":[{\"id\":\"6e6ca449-b73a-462a-a808-a464f7af9e45\",\"type\":\"LinearAxis\"}],\"plot_height\":500,\"plot_width\":500,\"renderers\":[{\"id\":\"36be7831-b921-4a36-b0d0-88f80ec05d00\",\"type\":\"LinearAxis\"},{\"id\":\"a86cff8a-5d66-4f25-afb0-4b3be293ae0c\",\"type\":\"Grid\"},{\"id\":\"6e6ca449-b73a-462a-a808-a464f7af9e45\",\"type\":\"LinearAxis\"},{\"id\":\"91ce2433-9dfd-4951-8228-cd95db06517c\",\"type\":\"Grid\"},{\"id\":\"6236ff1f-873b-4805-ba47-76ba46c3a4cd\",\"type\":\"BoxAnnotation\"},{\"id\":\"1951eae5-b1fe-4bc3-a3b6-39340a563b40\",\"type\":\"GlyphRenderer\"}],\"title\":{\"id\":\"2beaed32-23ef-4a41-98a0-a6074217f3d2\",\"type\":\"Title\"},\"toolbar\":{\"id\":\"77f953a6-312b-4dc8-91f7-4968e10e062c\",\"type\":\"Toolbar\"},\"x_range\":{\"id\":\"84b226b0-1893-47dd-8ca7-c70921dcd7e6\",\"type\":\"DataRange1d\"},\"x_scale\":{\"id\":\"6a55bb85-1652-433f-b8b9-ef2e809fa200\",\"type\":\"LinearScale\"},\"y_range\":{\"id\":\"42479b23-4978-4478-87bc-c52a5a8c29a7\",\"type\":\"DataRange1d\"},\"y_scale\":{\"id\":\"ab98a540-5bc5-4eb1-8e96-7cf10a8d2161\",\"type\":\"LinearScale\"}},\"id\":\"f02d8c4c-a617-4b4a-b4da-60eb96ca5c1c\",\"subtype\":\"Figure\",\"type\":\"Plot\"},{\"attributes\":{\"overlay\":{\"id\":\"6236ff1f-873b-4805-ba47-76ba46c3a4cd\",\"type\":\"BoxAnnotation\"}},\"id\":\"e6e45ad1-1ddd-4903-ab9f-127f1466e785\",\"type\":\"BoxZoomTool\"}],\"root_ids\":[\"f02d8c4c-a617-4b4a-b4da-60eb96ca5c1c\"]},\"title\":\"Bokeh Application\",\"version\":\"0.12.10\"}};\n",
       "    var render_items = [{\"docid\":\"28decb8c-fbd4-42ed-906d-dd67914b9aae\",\"elementid\":\"4fbe00fd-80ae-4bd5-9bbd-5ef7a6975e8e\",\"modelid\":\"f02d8c4c-a617-4b4a-b4da-60eb96ca5c1c\"}];\n",
       "\n",
       "    root.Bokeh.embed.embed_items(docs_json, render_items);\n",
       "  }\n",
       "\n",
       "  if (root.Bokeh !== undefined) {\n",
       "    embed_document(root);\n",
       "  } else {\n",
       "    var attempts = 0;\n",
       "    var timer = setInterval(function(root) {\n",
       "      if (root.Bokeh !== undefined) {\n",
       "        embed_document(root);\n",
       "        clearInterval(timer);\n",
       "      }\n",
       "      attempts++;\n",
       "      if (attempts > 100) {\n",
       "        console.log(\"Bokeh: ERROR: Unable to embed document because BokehJS library is missing\")\n",
       "        clearInterval(timer);\n",
       "      }\n",
       "    }, 10, root)\n",
       "  }\n",
       "})(window);"
      ],
      "application/vnd.bokehjs_exec.v0+json": ""
     },
     "metadata": {
      "application/vnd.bokehjs_exec.v0+json": {
       "id": "f02d8c4c-a617-4b4a-b4da-60eb96ca5c1c"
      }
     },
     "output_type": "display_data"
    }
   ],
   "source": [
    "fun1('TCS') # Part 2.1"
   ]
  },
  {
   "cell_type": "code",
   "execution_count": 37,
   "metadata": {
    "collapsed": true
   },
   "outputs": [],
   "source": [
    "def fun(s):# function to get shocks\n",
    "    if s=='INFY':\n",
    "        infy = n.get_history(symbol='INFY', start=date(2015,1,1), end=date(2015,12,31))\n",
    "        k=infy.copy()\n",
    "        k['Volume Shocks']=np.nan\n",
    "        k['Pricing Shocks']=np.nan\n",
    "        for i in range(1,248): \n",
    "            k['Volume Shocks'][i]=pd.Series((  ((k['Volume'][i-1]-k['Volume'][i])/k['Volume'][i])>0   and ((k['Volume'][i-1]-k['Volume'][i])/k['Volume'][i] >0.1)   ).astype(int))\n",
    "        \n",
    "        for i in range(0,247): \n",
    "            k['Pricing Shocks'][i]=pd.Series(    abs(k['Close'][i]-k['Close'][i+1])/k['Close'][i]>0.02    )\n",
    "        return k\n",
    "    else:\n",
    "        tcs = n.get_history(symbol='TCS', start=date(2015,1,1), end=date(2015,12,31))\n",
    "        k=tcs.copy()\n",
    "        k['Volume Shocks']=np.nan\n",
    "        k['Pricing Shocks']=np.nan\n",
    "        for i in range(1,248): \n",
    "            k['Volume Shocks'][i]=pd.Series((  ((k['Volume'][i-1]-k['Volume'][i])/k['Volume'][i])>0   and ((k['Volume'][i-1]-k['Volume'][i])/k['Volume'][i] >0.1)   ).astype(int))\n",
    "        \n",
    "        for i in range(0,247): \n",
    "            k['Pricing Shocks'][i]=pd.Series(    abs(k['Close'][i]-k['Close'][i+1])/k['Close'][i]>0.02    )\n",
    "        return k\n",
    "        "
   ]
  },
  {
   "cell_type": "code",
   "execution_count": null,
   "metadata": {
    "collapsed": true
   },
   "outputs": [],
   "source": []
  },
  {
   "cell_type": "code",
   "execution_count": 49,
   "metadata": {
    "collapsed": true
   },
   "outputs": [],
   "source": [
    "def fun2(s):\n",
    "    if(s=='INFY'):\n",
    "    \n",
    "        infy=fun(s)\n",
    "        p = figure(width=500, height=500)\n",
    "        p.line(infy['Volume Shocks'], infy['Close'],line_width=2,color='red')\n",
    "        p.xaxis.axis_label = 'Volume Shocks'\n",
    "        p.yaxis.axis_label = 'Close Prices'\n",
    "        show(p)\n",
    "    else:\n",
    "        tcs=fun(s)\n",
    "        p = figure(width=500, height=500)\n",
    "        p.line(tcs['Volume Shocks'], tcs['Close'],line_width=2,color='red')\n",
    "        p.xaxis.axis_label = 'Volume Shocks'\n",
    "        p.yaxis.axis_label = 'Close Prices'\n",
    "        show(p)\n",
    "        \n",
    "    "
   ]
  },
  {
   "cell_type": "code",
   "execution_count": 50,
   "metadata": {},
   "outputs": [
    {
     "name": "stderr",
     "output_type": "stream",
     "text": [
      "C:\\ProgramData\\Anaconda3\\lib\\site-packages\\ipykernel_launcher.py:8: SettingWithCopyWarning: \n",
      "A value is trying to be set on a copy of a slice from a DataFrame\n",
      "\n",
      "See the caveats in the documentation: http://pandas.pydata.org/pandas-docs/stable/indexing.html#indexing-view-versus-copy\n",
      "  \n",
      "C:\\ProgramData\\Anaconda3\\lib\\site-packages\\ipykernel_launcher.py:11: SettingWithCopyWarning: \n",
      "A value is trying to be set on a copy of a slice from a DataFrame\n",
      "\n",
      "See the caveats in the documentation: http://pandas.pydata.org/pandas-docs/stable/indexing.html#indexing-view-versus-copy\n",
      "  # This is added back by InteractiveShellApp.init_path()\n"
     ]
    },
    {
     "data": {
      "text/html": [
       "\n",
       "<div class=\"bk-root\">\n",
       "    <div class=\"bk-plotdiv\" id=\"615f379a-5e1b-4a7d-8c0b-7f7837976279\"></div>\n",
       "</div>"
      ]
     },
     "metadata": {},
     "output_type": "display_data"
    },
    {
     "data": {
      "application/javascript": [
       "(function(root) {\n",
       "  function embed_document(root) {\n",
       "    var docs_json = {\"2b637cbd-e55a-41a4-b9b1-65330d7cc437\":{\"roots\":{\"references\":[{\"attributes\":{},\"id\":\"c0debff8-75a0-427c-a411-d4e20fec3aef\",\"type\":\"LinearScale\"},{\"attributes\":{\"data_source\":{\"id\":\"76337df4-a63f-4812-82bd-50662834928f\",\"type\":\"ColumnDataSource\"},\"glyph\":{\"id\":\"409f6f0e-ae94-4419-92ff-f636a6372ba2\",\"type\":\"Line\"},\"hover_glyph\":null,\"muted_glyph\":null,\"nonselection_glyph\":{\"id\":\"b7f640e1-f89f-4cb6-8fcc-9dc25b5cf9a9\",\"type\":\"Line\"},\"selection_glyph\":null,\"view\":{\"id\":\"150a753f-c211-4d5f-a417-6b0475a87650\",\"type\":\"CDSView\"}},\"id\":\"cf4dd440-26be-4eb0-bc04-62c9fc5e5d4f\",\"type\":\"GlyphRenderer\"},{\"attributes\":{},\"id\":\"4582b184-3c38-4ff0-845e-4f6b989670a4\",\"type\":\"ResetTool\"},{\"attributes\":{\"axis_label\":\"Volume Shocks\",\"formatter\":{\"id\":\"5d692b6d-6505-4fa9-80e3-59e67a519ab3\",\"type\":\"BasicTickFormatter\"},\"plot\":{\"id\":\"e707e18c-cc3f-4321-aafb-7864b25d750c\",\"subtype\":\"Figure\",\"type\":\"Plot\"},\"ticker\":{\"id\":\"e1029770-56c0-4936-9eb7-585956963d42\",\"type\":\"BasicTicker\"}},\"id\":\"9d7fe188-52c8-437f-bc54-dcf733959ba3\",\"type\":\"LinearAxis\"},{\"attributes\":{},\"id\":\"d614c91c-91c2-4024-b1fd-b9301817c214\",\"type\":\"SaveTool\"},{\"attributes\":{\"overlay\":{\"id\":\"fe4dc5a3-afb9-41e7-b006-476919ce391b\",\"type\":\"BoxAnnotation\"}},\"id\":\"b310e675-c88d-4cbe-b58c-ae8eca6acff5\",\"type\":\"BoxZoomTool\"},{\"attributes\":{},\"id\":\"29eb5377-346a-49ea-ac36-577a909a95e9\",\"type\":\"HelpTool\"},{\"attributes\":{},\"id\":\"76c2595b-c908-453b-8156-471b337fc971\",\"type\":\"WheelZoomTool\"},{\"attributes\":{},\"id\":\"02e8e1ca-bb31-4a0a-a60f-93a38570dfb7\",\"type\":\"PanTool\"},{\"attributes\":{\"bottom_units\":\"screen\",\"fill_alpha\":{\"value\":0.5},\"fill_color\":{\"value\":\"lightgrey\"},\"left_units\":\"screen\",\"level\":\"overlay\",\"line_alpha\":{\"value\":1.0},\"line_color\":{\"value\":\"black\"},\"line_dash\":[4,4],\"line_width\":{\"value\":2},\"plot\":null,\"render_mode\":\"css\",\"right_units\":\"screen\",\"top_units\":\"screen\"},\"id\":\"fe4dc5a3-afb9-41e7-b006-476919ce391b\",\"type\":\"BoxAnnotation\"},{\"attributes\":{\"callback\":null},\"id\":\"2e63b7a9-db7f-4ee2-9ace-ac18b9f0e15f\",\"type\":\"DataRange1d\"},{\"attributes\":{\"callback\":null,\"column_names\":[\"x\",\"y\"],\"data\":{\"x\":{\"__ndarray__\":\"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\",\"dtype\":\"float64\",\"shape\":[248]},\"y\":{\"__ndarray__\":\"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\",\"dtype\":\"float64\",\"shape\":[248]}}},\"id\":\"76337df4-a63f-4812-82bd-50662834928f\",\"type\":\"ColumnDataSource\"},{\"attributes\":{\"below\":[{\"id\":\"9d7fe188-52c8-437f-bc54-dcf733959ba3\",\"type\":\"LinearAxis\"}],\"left\":[{\"id\":\"7f96780a-7c00-41b9-bd0d-7190f8352c82\",\"type\":\"LinearAxis\"}],\"plot_height\":500,\"plot_width\":500,\"renderers\":[{\"id\":\"9d7fe188-52c8-437f-bc54-dcf733959ba3\",\"type\":\"LinearAxis\"},{\"id\":\"513290d6-fa8a-40ac-89bf-e422c3e04379\",\"type\":\"Grid\"},{\"id\":\"7f96780a-7c00-41b9-bd0d-7190f8352c82\",\"type\":\"LinearAxis\"},{\"id\":\"81504030-343e-45a0-a63f-252a42270e9c\",\"type\":\"Grid\"},{\"id\":\"fe4dc5a3-afb9-41e7-b006-476919ce391b\",\"type\":\"BoxAnnotation\"},{\"id\":\"cf4dd440-26be-4eb0-bc04-62c9fc5e5d4f\",\"type\":\"GlyphRenderer\"}],\"title\":{\"id\":\"a7407603-4603-4fe5-b186-18e31ca241ed\",\"type\":\"Title\"},\"toolbar\":{\"id\":\"10df265a-ce53-4873-9bb4-e39a720525b6\",\"type\":\"Toolbar\"},\"x_range\":{\"id\":\"198bffa3-417d-4451-9240-21399e181e3b\",\"type\":\"DataRange1d\"},\"x_scale\":{\"id\":\"46043df5-7874-4d40-b1fd-df2aba92b8c4\",\"type\":\"LinearScale\"},\"y_range\":{\"id\":\"2e63b7a9-db7f-4ee2-9ace-ac18b9f0e15f\",\"type\":\"DataRange1d\"},\"y_scale\":{\"id\":\"c0debff8-75a0-427c-a411-d4e20fec3aef\",\"type\":\"LinearScale\"}},\"id\":\"e707e18c-cc3f-4321-aafb-7864b25d750c\",\"subtype\":\"Figure\",\"type\":\"Plot\"},{\"attributes\":{\"source\":{\"id\":\"76337df4-a63f-4812-82bd-50662834928f\",\"type\":\"ColumnDataSource\"}},\"id\":\"150a753f-c211-4d5f-a417-6b0475a87650\",\"type\":\"CDSView\"},{\"attributes\":{\"line_color\":{\"value\":\"red\"},\"line_width\":{\"value\":2},\"x\":{\"field\":\"x\"},\"y\":{\"field\":\"y\"}},\"id\":\"409f6f0e-ae94-4419-92ff-f636a6372ba2\",\"type\":\"Line\"},{\"attributes\":{},\"id\":\"9828b0f5-5c76-42ee-bbf5-19a145ab1fb5\",\"type\":\"BasicTickFormatter\"},{\"attributes\":{\"dimension\":1,\"plot\":{\"id\":\"e707e18c-cc3f-4321-aafb-7864b25d750c\",\"subtype\":\"Figure\",\"type\":\"Plot\"},\"ticker\":{\"id\":\"3f14d10f-d08c-4d3c-91fc-05db067e6901\",\"type\":\"BasicTicker\"}},\"id\":\"81504030-343e-45a0-a63f-252a42270e9c\",\"type\":\"Grid\"},{\"attributes\":{\"active_drag\":\"auto\",\"active_inspect\":\"auto\",\"active_scroll\":\"auto\",\"active_tap\":\"auto\",\"tools\":[{\"id\":\"02e8e1ca-bb31-4a0a-a60f-93a38570dfb7\",\"type\":\"PanTool\"},{\"id\":\"76c2595b-c908-453b-8156-471b337fc971\",\"type\":\"WheelZoomTool\"},{\"id\":\"b310e675-c88d-4cbe-b58c-ae8eca6acff5\",\"type\":\"BoxZoomTool\"},{\"id\":\"d614c91c-91c2-4024-b1fd-b9301817c214\",\"type\":\"SaveTool\"},{\"id\":\"4582b184-3c38-4ff0-845e-4f6b989670a4\",\"type\":\"ResetTool\"},{\"id\":\"29eb5377-346a-49ea-ac36-577a909a95e9\",\"type\":\"HelpTool\"}]},\"id\":\"10df265a-ce53-4873-9bb4-e39a720525b6\",\"type\":\"Toolbar\"},{\"attributes\":{},\"id\":\"3f14d10f-d08c-4d3c-91fc-05db067e6901\",\"type\":\"BasicTicker\"},{\"attributes\":{\"callback\":null},\"id\":\"198bffa3-417d-4451-9240-21399e181e3b\",\"type\":\"DataRange1d\"},{\"attributes\":{\"axis_label\":\"Close Prices\",\"formatter\":{\"id\":\"9828b0f5-5c76-42ee-bbf5-19a145ab1fb5\",\"type\":\"BasicTickFormatter\"},\"plot\":{\"id\":\"e707e18c-cc3f-4321-aafb-7864b25d750c\",\"subtype\":\"Figure\",\"type\":\"Plot\"},\"ticker\":{\"id\":\"3f14d10f-d08c-4d3c-91fc-05db067e6901\",\"type\":\"BasicTicker\"}},\"id\":\"7f96780a-7c00-41b9-bd0d-7190f8352c82\",\"type\":\"LinearAxis\"},{\"attributes\":{\"line_alpha\":{\"value\":0.1},\"line_color\":{\"value\":\"#1f77b4\"},\"line_width\":{\"value\":2},\"x\":{\"field\":\"x\"},\"y\":{\"field\":\"y\"}},\"id\":\"b7f640e1-f89f-4cb6-8fcc-9dc25b5cf9a9\",\"type\":\"Line\"},{\"attributes\":{},\"id\":\"5d692b6d-6505-4fa9-80e3-59e67a519ab3\",\"type\":\"BasicTickFormatter\"},{\"attributes\":{},\"id\":\"46043df5-7874-4d40-b1fd-df2aba92b8c4\",\"type\":\"LinearScale\"},{\"attributes\":{},\"id\":\"e1029770-56c0-4936-9eb7-585956963d42\",\"type\":\"BasicTicker\"},{\"attributes\":{\"plot\":null,\"text\":\"\"},\"id\":\"a7407603-4603-4fe5-b186-18e31ca241ed\",\"type\":\"Title\"},{\"attributes\":{\"plot\":{\"id\":\"e707e18c-cc3f-4321-aafb-7864b25d750c\",\"subtype\":\"Figure\",\"type\":\"Plot\"},\"ticker\":{\"id\":\"e1029770-56c0-4936-9eb7-585956963d42\",\"type\":\"BasicTicker\"}},\"id\":\"513290d6-fa8a-40ac-89bf-e422c3e04379\",\"type\":\"Grid\"}],\"root_ids\":[\"e707e18c-cc3f-4321-aafb-7864b25d750c\"]},\"title\":\"Bokeh Application\",\"version\":\"0.12.10\"}};\n",
       "    var render_items = [{\"docid\":\"2b637cbd-e55a-41a4-b9b1-65330d7cc437\",\"elementid\":\"615f379a-5e1b-4a7d-8c0b-7f7837976279\",\"modelid\":\"e707e18c-cc3f-4321-aafb-7864b25d750c\"}];\n",
       "\n",
       "    root.Bokeh.embed.embed_items(docs_json, render_items);\n",
       "  }\n",
       "\n",
       "  if (root.Bokeh !== undefined) {\n",
       "    embed_document(root);\n",
       "  } else {\n",
       "    var attempts = 0;\n",
       "    var timer = setInterval(function(root) {\n",
       "      if (root.Bokeh !== undefined) {\n",
       "        embed_document(root);\n",
       "        clearInterval(timer);\n",
       "      }\n",
       "      attempts++;\n",
       "      if (attempts > 100) {\n",
       "        console.log(\"Bokeh: ERROR: Unable to embed document because BokehJS library is missing\")\n",
       "        clearInterval(timer);\n",
       "      }\n",
       "    }, 10, root)\n",
       "  }\n",
       "})(window);"
      ],
      "application/vnd.bokehjs_exec.v0+json": ""
     },
     "metadata": {
      "application/vnd.bokehjs_exec.v0+json": {
       "id": "e707e18c-cc3f-4321-aafb-7864b25d750c"
      }
     },
     "output_type": "display_data"
    }
   ],
   "source": [
    "fun2('INFY') #part 2.2"
   ]
  },
  {
   "cell_type": "code",
   "execution_count": 48,
   "metadata": {
    "scrolled": true
   },
   "outputs": [
    {
     "name": "stderr",
     "output_type": "stream",
     "text": [
      "C:\\ProgramData\\Anaconda3\\lib\\site-packages\\ipykernel_launcher.py:19: SettingWithCopyWarning: \n",
      "A value is trying to be set on a copy of a slice from a DataFrame\n",
      "\n",
      "See the caveats in the documentation: http://pandas.pydata.org/pandas-docs/stable/indexing.html#indexing-view-versus-copy\n",
      "C:\\ProgramData\\Anaconda3\\lib\\site-packages\\ipykernel_launcher.py:22: SettingWithCopyWarning: \n",
      "A value is trying to be set on a copy of a slice from a DataFrame\n",
      "\n",
      "See the caveats in the documentation: http://pandas.pydata.org/pandas-docs/stable/indexing.html#indexing-view-versus-copy\n"
     ]
    },
    {
     "data": {
      "text/html": [
       "\n",
       "<div class=\"bk-root\">\n",
       "    <div class=\"bk-plotdiv\" id=\"eb8a20a3-23a9-4c4b-9d8d-98a020aad37a\"></div>\n",
       "</div>"
      ]
     },
     "metadata": {},
     "output_type": "display_data"
    },
    {
     "data": {
      "application/javascript": [
       "(function(root) {\n",
       "  function embed_document(root) {\n",
       "    var docs_json = {\"ec611baf-5207-46a2-92a9-4ca425992f29\":{\"roots\":{\"references\":[{\"attributes\":{},\"id\":\"1a3407bf-53e0-4cea-bdae-3cf67e2c0a16\",\"type\":\"WheelZoomTool\"},{\"attributes\":{\"source\":{\"id\":\"b84b23e8-c737-4da7-a30a-4915252fa035\",\"type\":\"ColumnDataSource\"}},\"id\":\"0e9b3984-bd5e-4c59-8bcf-f81c2c2d0e49\",\"type\":\"CDSView\"},{\"attributes\":{},\"id\":\"2c2ab22e-cce2-4a3c-96ff-46eb6c81c7ed\",\"type\":\"SaveTool\"},{\"attributes\":{},\"id\":\"65054332-fbbb-4702-be0e-6da6e0467d78\",\"type\":\"PanTool\"},{\"attributes\":{\"callback\":null,\"column_names\":[\"x\",\"y\"],\"data\":{\"x\":{\"__ndarray__\":\"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\",\"dtype\":\"float64\",\"shape\":[248]},\"y\":{\"__ndarray__\":\"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\",\"dtype\":\"float64\",\"shape\":[248]}}},\"id\":\"b84b23e8-c737-4da7-a30a-4915252fa035\",\"type\":\"ColumnDataSource\"},{\"attributes\":{},\"id\":\"d7eaffe0-a15c-44e0-b209-4161284c8117\",\"type\":\"BasicTickFormatter\"},{\"attributes\":{\"active_drag\":\"auto\",\"active_inspect\":\"auto\",\"active_scroll\":\"auto\",\"active_tap\":\"auto\",\"tools\":[{\"id\":\"65054332-fbbb-4702-be0e-6da6e0467d78\",\"type\":\"PanTool\"},{\"id\":\"1a3407bf-53e0-4cea-bdae-3cf67e2c0a16\",\"type\":\"WheelZoomTool\"},{\"id\":\"a480d1cf-ea14-4e61-b8ad-d0e639fe8c42\",\"type\":\"BoxZoomTool\"},{\"id\":\"2c2ab22e-cce2-4a3c-96ff-46eb6c81c7ed\",\"type\":\"SaveTool\"},{\"id\":\"33e65c42-78c7-4024-948e-5d9c3637ad0f\",\"type\":\"ResetTool\"},{\"id\":\"06c60db9-8a5d-4377-a6b9-bf6c45afefa7\",\"type\":\"HelpTool\"}]},\"id\":\"1f64d285-d0a1-4ae6-9978-a83d815afcec\",\"type\":\"Toolbar\"},{\"attributes\":{\"line_alpha\":{\"value\":0.1},\"line_color\":{\"value\":\"#1f77b4\"},\"line_width\":{\"value\":2},\"x\":{\"field\":\"x\"},\"y\":{\"field\":\"y\"}},\"id\":\"dc351cdc-b816-46df-9b9c-b11d6fdff03a\",\"type\":\"Line\"},{\"attributes\":{\"bottom_units\":\"screen\",\"fill_alpha\":{\"value\":0.5},\"fill_color\":{\"value\":\"lightgrey\"},\"left_units\":\"screen\",\"level\":\"overlay\",\"line_alpha\":{\"value\":1.0},\"line_color\":{\"value\":\"black\"},\"line_dash\":[4,4],\"line_width\":{\"value\":2},\"plot\":null,\"render_mode\":\"css\",\"right_units\":\"screen\",\"top_units\":\"screen\"},\"id\":\"9c7becff-c6ae-4fbf-b6bc-fb9a406e9610\",\"type\":\"BoxAnnotation\"},{\"attributes\":{\"dimension\":1,\"plot\":{\"id\":\"7d71f00c-b07c-4c93-9e27-2ff7e22ae0db\",\"subtype\":\"Figure\",\"type\":\"Plot\"},\"ticker\":{\"id\":\"f40d77bb-34a2-48e3-af78-8465e80352d0\",\"type\":\"BasicTicker\"}},\"id\":\"ca567592-32ee-4969-9f1b-29c3a93a21b2\",\"type\":\"Grid\"},{\"attributes\":{},\"id\":\"c26ebabe-1303-46c0-b5eb-3b8c884de41d\",\"type\":\"LinearScale\"},{\"attributes\":{\"axis_label\":\"Close Prices\",\"formatter\":{\"id\":\"d7eaffe0-a15c-44e0-b209-4161284c8117\",\"type\":\"BasicTickFormatter\"},\"plot\":{\"id\":\"7d71f00c-b07c-4c93-9e27-2ff7e22ae0db\",\"subtype\":\"Figure\",\"type\":\"Plot\"},\"ticker\":{\"id\":\"f40d77bb-34a2-48e3-af78-8465e80352d0\",\"type\":\"BasicTicker\"}},\"id\":\"09b6c606-17e1-4adc-8a9f-139941cd452e\",\"type\":\"LinearAxis\"},{\"attributes\":{\"callback\":null},\"id\":\"3d125dd5-30a6-4c79-acfe-80e5df47ee92\",\"type\":\"DataRange1d\"},{\"attributes\":{},\"id\":\"a1e071c6-075e-472a-bcb5-ed15f343e5ad\",\"type\":\"BasicTicker\"},{\"attributes\":{\"below\":[{\"id\":\"c65aece6-4d3a-410a-94f4-1e9c7109e0bd\",\"type\":\"LinearAxis\"}],\"left\":[{\"id\":\"09b6c606-17e1-4adc-8a9f-139941cd452e\",\"type\":\"LinearAxis\"}],\"plot_height\":500,\"plot_width\":500,\"renderers\":[{\"id\":\"c65aece6-4d3a-410a-94f4-1e9c7109e0bd\",\"type\":\"LinearAxis\"},{\"id\":\"26d9bf34-6afd-4d12-b6e1-dae35d534028\",\"type\":\"Grid\"},{\"id\":\"09b6c606-17e1-4adc-8a9f-139941cd452e\",\"type\":\"LinearAxis\"},{\"id\":\"ca567592-32ee-4969-9f1b-29c3a93a21b2\",\"type\":\"Grid\"},{\"id\":\"9c7becff-c6ae-4fbf-b6bc-fb9a406e9610\",\"type\":\"BoxAnnotation\"},{\"id\":\"6cafbec2-5561-4ddc-81e1-9b9a49ea7e08\",\"type\":\"GlyphRenderer\"}],\"title\":{\"id\":\"25ff734e-f345-4229-8bda-efbf3bade04d\",\"type\":\"Title\"},\"toolbar\":{\"id\":\"1f64d285-d0a1-4ae6-9978-a83d815afcec\",\"type\":\"Toolbar\"},\"x_range\":{\"id\":\"df0f29ff-d4f7-4357-b33a-1827ee2cdeae\",\"type\":\"DataRange1d\"},\"x_scale\":{\"id\":\"c26ebabe-1303-46c0-b5eb-3b8c884de41d\",\"type\":\"LinearScale\"},\"y_range\":{\"id\":\"3d125dd5-30a6-4c79-acfe-80e5df47ee92\",\"type\":\"DataRange1d\"},\"y_scale\":{\"id\":\"c5a1f685-2e44-4bbf-a8c5-91bc91e46f52\",\"type\":\"LinearScale\"}},\"id\":\"7d71f00c-b07c-4c93-9e27-2ff7e22ae0db\",\"subtype\":\"Figure\",\"type\":\"Plot\"},{\"attributes\":{\"axis_label\":\"Volume Shocks\",\"formatter\":{\"id\":\"1208a65d-6875-4096-8e2c-de3a7c5b4344\",\"type\":\"BasicTickFormatter\"},\"plot\":{\"id\":\"7d71f00c-b07c-4c93-9e27-2ff7e22ae0db\",\"subtype\":\"Figure\",\"type\":\"Plot\"},\"ticker\":{\"id\":\"a1e071c6-075e-472a-bcb5-ed15f343e5ad\",\"type\":\"BasicTicker\"}},\"id\":\"c65aece6-4d3a-410a-94f4-1e9c7109e0bd\",\"type\":\"LinearAxis\"},{\"attributes\":{},\"id\":\"1208a65d-6875-4096-8e2c-de3a7c5b4344\",\"type\":\"BasicTickFormatter\"},{\"attributes\":{},\"id\":\"f40d77bb-34a2-48e3-af78-8465e80352d0\",\"type\":\"BasicTicker\"},{\"attributes\":{\"line_color\":{\"value\":\"red\"},\"line_width\":{\"value\":2},\"x\":{\"field\":\"x\"},\"y\":{\"field\":\"y\"}},\"id\":\"87966503-ebd3-4356-bc26-543439697087\",\"type\":\"Line\"},{\"attributes\":{\"plot\":{\"id\":\"7d71f00c-b07c-4c93-9e27-2ff7e22ae0db\",\"subtype\":\"Figure\",\"type\":\"Plot\"},\"ticker\":{\"id\":\"a1e071c6-075e-472a-bcb5-ed15f343e5ad\",\"type\":\"BasicTicker\"}},\"id\":\"26d9bf34-6afd-4d12-b6e1-dae35d534028\",\"type\":\"Grid\"},{\"attributes\":{\"callback\":null},\"id\":\"df0f29ff-d4f7-4357-b33a-1827ee2cdeae\",\"type\":\"DataRange1d\"},{\"attributes\":{},\"id\":\"06c60db9-8a5d-4377-a6b9-bf6c45afefa7\",\"type\":\"HelpTool\"},{\"attributes\":{\"data_source\":{\"id\":\"b84b23e8-c737-4da7-a30a-4915252fa035\",\"type\":\"ColumnDataSource\"},\"glyph\":{\"id\":\"87966503-ebd3-4356-bc26-543439697087\",\"type\":\"Line\"},\"hover_glyph\":null,\"muted_glyph\":null,\"nonselection_glyph\":{\"id\":\"dc351cdc-b816-46df-9b9c-b11d6fdff03a\",\"type\":\"Line\"},\"selection_glyph\":null,\"view\":{\"id\":\"0e9b3984-bd5e-4c59-8bcf-f81c2c2d0e49\",\"type\":\"CDSView\"}},\"id\":\"6cafbec2-5561-4ddc-81e1-9b9a49ea7e08\",\"type\":\"GlyphRenderer\"},{\"attributes\":{\"plot\":null,\"text\":\"\"},\"id\":\"25ff734e-f345-4229-8bda-efbf3bade04d\",\"type\":\"Title\"},{\"attributes\":{},\"id\":\"33e65c42-78c7-4024-948e-5d9c3637ad0f\",\"type\":\"ResetTool\"},{\"attributes\":{},\"id\":\"c5a1f685-2e44-4bbf-a8c5-91bc91e46f52\",\"type\":\"LinearScale\"},{\"attributes\":{\"overlay\":{\"id\":\"9c7becff-c6ae-4fbf-b6bc-fb9a406e9610\",\"type\":\"BoxAnnotation\"}},\"id\":\"a480d1cf-ea14-4e61-b8ad-d0e639fe8c42\",\"type\":\"BoxZoomTool\"}],\"root_ids\":[\"7d71f00c-b07c-4c93-9e27-2ff7e22ae0db\"]},\"title\":\"Bokeh Application\",\"version\":\"0.12.10\"}};\n",
       "    var render_items = [{\"docid\":\"ec611baf-5207-46a2-92a9-4ca425992f29\",\"elementid\":\"eb8a20a3-23a9-4c4b-9d8d-98a020aad37a\",\"modelid\":\"7d71f00c-b07c-4c93-9e27-2ff7e22ae0db\"}];\n",
       "\n",
       "    root.Bokeh.embed.embed_items(docs_json, render_items);\n",
       "  }\n",
       "\n",
       "  if (root.Bokeh !== undefined) {\n",
       "    embed_document(root);\n",
       "  } else {\n",
       "    var attempts = 0;\n",
       "    var timer = setInterval(function(root) {\n",
       "      if (root.Bokeh !== undefined) {\n",
       "        embed_document(root);\n",
       "        clearInterval(timer);\n",
       "      }\n",
       "      attempts++;\n",
       "      if (attempts > 100) {\n",
       "        console.log(\"Bokeh: ERROR: Unable to embed document because BokehJS library is missing\")\n",
       "        clearInterval(timer);\n",
       "      }\n",
       "    }, 10, root)\n",
       "  }\n",
       "})(window);"
      ],
      "application/vnd.bokehjs_exec.v0+json": ""
     },
     "metadata": {
      "application/vnd.bokehjs_exec.v0+json": {
       "id": "7d71f00c-b07c-4c93-9e27-2ff7e22ae0db"
      }
     },
     "output_type": "display_data"
    }
   ],
   "source": [
    "fun2('TCS') #Part 2.2"
   ]
  },
  {
   "cell_type": "code",
   "execution_count": null,
   "metadata": {
    "collapsed": true
   },
   "outputs": [],
   "source": []
  },
  {
   "cell_type": "code",
   "execution_count": null,
   "metadata": {
    "collapsed": true
   },
   "outputs": [],
   "source": []
  },
  {
   "cell_type": "code",
   "execution_count": null,
   "metadata": {
    "collapsed": true
   },
   "outputs": [],
   "source": []
  },
  {
   "cell_type": "code",
   "execution_count": null,
   "metadata": {
    "collapsed": true
   },
   "outputs": [],
   "source": []
  },
  {
   "cell_type": "code",
   "execution_count": null,
   "metadata": {},
   "outputs": [],
   "source": []
  }
 ],
 "metadata": {
  "kernelspec": {
   "display_name": "Python 3",
   "language": "python",
   "name": "python3"
  },
  "language_info": {
   "codemirror_mode": {
    "name": "ipython",
    "version": 3
   },
   "file_extension": ".py",
   "mimetype": "text/x-python",
   "name": "python",
   "nbconvert_exporter": "python",
   "pygments_lexer": "ipython3",
   "version": "3.6.3"
  }
 },
 "nbformat": 4,
 "nbformat_minor": 2
}
