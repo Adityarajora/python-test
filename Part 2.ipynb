{
 "cells": [
  {
   "cell_type": "code",
   "execution_count": 52,
   "metadata": {},
   "outputs": [
    {
     "data": {
      "text/html": [
       "\n",
       "    <div class=\"bk-root\">\n",
       "        <a href=\"https://bokeh.pydata.org\" target=\"_blank\" class=\"bk-logo bk-logo-small bk-logo-notebook\"></a>\n",
       "        <span id=\"ee3eeed0-22db-4e29-b4ae-ba60bb9fb386\">Loading BokehJS ...</span>\n",
       "    </div>"
      ]
     },
     "metadata": {},
     "output_type": "display_data"
    },
    {
     "data": {
      "application/javascript": [
       "\n",
       "(function(root) {\n",
       "  function now() {\n",
       "    return new Date();\n",
       "  }\n",
       "\n",
       "  var force = true;\n",
       "\n",
       "  if (typeof (root._bokeh_onload_callbacks) === \"undefined\" || force === true) {\n",
       "    root._bokeh_onload_callbacks = [];\n",
       "    root._bokeh_is_loading = undefined;\n",
       "  }\n",
       "\n",
       "  var JS_MIME_TYPE = 'application/javascript';\n",
       "  var HTML_MIME_TYPE = 'text/html';\n",
       "  var EXEC_MIME_TYPE = 'application/vnd.bokehjs_exec.v0+json';\n",
       "  var CLASS_NAME = 'output_bokeh rendered_html';\n",
       "\n",
       "  /**\n",
       "   * Render data to the DOM node\n",
       "   */\n",
       "  function render(props, node) {\n",
       "    var script = document.createElement(\"script\");\n",
       "    node.appendChild(script);\n",
       "  }\n",
       "\n",
       "  /**\n",
       "   * Handle when an output is cleared or removed\n",
       "   */\n",
       "  function handleClearOutput(event, handle) {\n",
       "    var cell = handle.cell;\n",
       "\n",
       "    var id = cell.output_area._bokeh_element_id;\n",
       "    var server_id = cell.output_area._bokeh_server_id;\n",
       "    // Clean up Bokeh references\n",
       "    if (id !== undefined) {\n",
       "      Bokeh.index[id].model.document.clear();\n",
       "      delete Bokeh.index[id];\n",
       "    }\n",
       "\n",
       "    if (server_id !== undefined) {\n",
       "      // Clean up Bokeh references\n",
       "      var cmd = \"from bokeh.io.state import curstate; print(curstate().uuid_to_server['\" + server_id + \"'].get_sessions()[0].document.roots[0]._id)\";\n",
       "      cell.notebook.kernel.execute(cmd, {\n",
       "        iopub: {\n",
       "          output: function(msg) {\n",
       "            var element_id = msg.content.text.trim();\n",
       "            Bokeh.index[element_id].model.document.clear();\n",
       "            delete Bokeh.index[element_id];\n",
       "          }\n",
       "        }\n",
       "      });\n",
       "      // Destroy server and session\n",
       "      var cmd = \"import bokeh.io.notebook as ion; ion.destroy_server('\" + server_id + \"')\";\n",
       "      cell.notebook.kernel.execute(cmd);\n",
       "    }\n",
       "  }\n",
       "\n",
       "  /**\n",
       "   * Handle when a new output is added\n",
       "   */\n",
       "  function handleAddOutput(event, handle) {\n",
       "    var output_area = handle.output_area;\n",
       "    var output = handle.output;\n",
       "\n",
       "    // limit handleAddOutput to display_data with EXEC_MIME_TYPE content only\n",
       "    if ((output.output_type != \"display_data\") || (!output.data.hasOwnProperty(EXEC_MIME_TYPE))) {\n",
       "      return\n",
       "    }\n",
       "\n",
       "    var toinsert = output_area.element.find(`.${CLASS_NAME.split(' ')[0]}`);\n",
       "\n",
       "    if (output.metadata[EXEC_MIME_TYPE][\"id\"] !== undefined) {\n",
       "      toinsert[0].firstChild.textContent = output.data[JS_MIME_TYPE];\n",
       "      // store reference to embed id on output_area\n",
       "      output_area._bokeh_element_id = output.metadata[EXEC_MIME_TYPE][\"id\"];\n",
       "    }\n",
       "    if (output.metadata[EXEC_MIME_TYPE][\"server_id\"] !== undefined) {\n",
       "      var bk_div = document.createElement(\"div\");\n",
       "      bk_div.innerHTML = output.data[HTML_MIME_TYPE];\n",
       "      var script_attrs = bk_div.children[0].attributes;\n",
       "      for (var i = 0; i < script_attrs.length; i++) {\n",
       "        toinsert[0].firstChild.setAttribute(script_attrs[i].name, script_attrs[i].value);\n",
       "      }\n",
       "      // store reference to server id on output_area\n",
       "      output_area._bokeh_server_id = output.metadata[EXEC_MIME_TYPE][\"server_id\"];\n",
       "    }\n",
       "  }\n",
       "\n",
       "  function register_renderer(events, OutputArea) {\n",
       "\n",
       "    function append_mime(data, metadata, element) {\n",
       "      // create a DOM node to render to\n",
       "      var toinsert = this.create_output_subarea(\n",
       "        metadata,\n",
       "        CLASS_NAME,\n",
       "        EXEC_MIME_TYPE\n",
       "      );\n",
       "      this.keyboard_manager.register_events(toinsert);\n",
       "      // Render to node\n",
       "      var props = {data: data, metadata: metadata[EXEC_MIME_TYPE]};\n",
       "      render(props, toinsert[0]);\n",
       "      element.append(toinsert);\n",
       "      return toinsert\n",
       "    }\n",
       "\n",
       "    /* Handle when an output is cleared or removed */\n",
       "    events.on('clear_output.CodeCell', handleClearOutput);\n",
       "    events.on('delete.Cell', handleClearOutput);\n",
       "\n",
       "    /* Handle when a new output is added */\n",
       "    events.on('output_added.OutputArea', handleAddOutput);\n",
       "\n",
       "    /**\n",
       "     * Register the mime type and append_mime function with output_area\n",
       "     */\n",
       "    OutputArea.prototype.register_mime_type(EXEC_MIME_TYPE, append_mime, {\n",
       "      /* Is output safe? */\n",
       "      safe: true,\n",
       "      /* Index of renderer in `output_area.display_order` */\n",
       "      index: 0\n",
       "    });\n",
       "  }\n",
       "\n",
       "  // register the mime type if in Jupyter Notebook environment and previously unregistered\n",
       "  if (root.Jupyter !== undefined) {\n",
       "    var events = require('base/js/events');\n",
       "    var OutputArea = require('notebook/js/outputarea').OutputArea;\n",
       "\n",
       "    if (OutputArea.prototype.mime_types().indexOf(EXEC_MIME_TYPE) == -1) {\n",
       "      register_renderer(events, OutputArea);\n",
       "    }\n",
       "  }\n",
       "\n",
       "  \n",
       "  if (typeof (root._bokeh_timeout) === \"undefined\" || force === true) {\n",
       "    root._bokeh_timeout = Date.now() + 5000;\n",
       "    root._bokeh_failed_load = false;\n",
       "  }\n",
       "\n",
       "  var NB_LOAD_WARNING = {'data': {'text/html':\n",
       "     \"<div style='background-color: #fdd'>\\n\"+\n",
       "     \"<p>\\n\"+\n",
       "     \"BokehJS does not appear to have successfully loaded. If loading BokehJS from CDN, this \\n\"+\n",
       "     \"may be due to a slow or bad network connection. Possible fixes:\\n\"+\n",
       "     \"</p>\\n\"+\n",
       "     \"<ul>\\n\"+\n",
       "     \"<li>re-rerun `output_notebook()` to attempt to load from CDN again, or</li>\\n\"+\n",
       "     \"<li>use INLINE resources instead, as so:</li>\\n\"+\n",
       "     \"</ul>\\n\"+\n",
       "     \"<code>\\n\"+\n",
       "     \"from bokeh.resources import INLINE\\n\"+\n",
       "     \"output_notebook(resources=INLINE)\\n\"+\n",
       "     \"</code>\\n\"+\n",
       "     \"</div>\"}};\n",
       "\n",
       "  function display_loaded() {\n",
       "    var el = document.getElementById(\"ee3eeed0-22db-4e29-b4ae-ba60bb9fb386\");\n",
       "    if (el != null) {\n",
       "      el.textContent = \"BokehJS is loading...\";\n",
       "    }\n",
       "    if (root.Bokeh !== undefined) {\n",
       "      if (el != null) {\n",
       "        el.textContent = \"BokehJS \" + root.Bokeh.version + \" successfully loaded.\";\n",
       "      }\n",
       "    } else if (Date.now() < root._bokeh_timeout) {\n",
       "      setTimeout(display_loaded, 100)\n",
       "    }\n",
       "  }\n",
       "\n",
       "\n",
       "  function run_callbacks() {\n",
       "    try {\n",
       "      root._bokeh_onload_callbacks.forEach(function(callback) { callback() });\n",
       "    }\n",
       "    finally {\n",
       "      delete root._bokeh_onload_callbacks\n",
       "    }\n",
       "    console.info(\"Bokeh: all callbacks have finished\");\n",
       "  }\n",
       "\n",
       "  function load_libs(js_urls, callback) {\n",
       "    root._bokeh_onload_callbacks.push(callback);\n",
       "    if (root._bokeh_is_loading > 0) {\n",
       "      console.log(\"Bokeh: BokehJS is being loaded, scheduling callback at\", now());\n",
       "      return null;\n",
       "    }\n",
       "    if (js_urls == null || js_urls.length === 0) {\n",
       "      run_callbacks();\n",
       "      return null;\n",
       "    }\n",
       "    console.log(\"Bokeh: BokehJS not loaded, scheduling load and callback at\", now());\n",
       "    root._bokeh_is_loading = js_urls.length;\n",
       "    for (var i = 0; i < js_urls.length; i++) {\n",
       "      var url = js_urls[i];\n",
       "      var s = document.createElement('script');\n",
       "      s.src = url;\n",
       "      s.async = false;\n",
       "      s.onreadystatechange = s.onload = function() {\n",
       "        root._bokeh_is_loading--;\n",
       "        if (root._bokeh_is_loading === 0) {\n",
       "          console.log(\"Bokeh: all BokehJS libraries loaded\");\n",
       "          run_callbacks()\n",
       "        }\n",
       "      };\n",
       "      s.onerror = function() {\n",
       "        console.warn(\"failed to load library \" + url);\n",
       "      };\n",
       "      console.log(\"Bokeh: injecting script tag for BokehJS library: \", url);\n",
       "      document.getElementsByTagName(\"head\")[0].appendChild(s);\n",
       "    }\n",
       "  };var element = document.getElementById(\"ee3eeed0-22db-4e29-b4ae-ba60bb9fb386\");\n",
       "  if (element == null) {\n",
       "    console.log(\"Bokeh: ERROR: autoload.js configured with elementid 'ee3eeed0-22db-4e29-b4ae-ba60bb9fb386' but no matching script tag was found. \")\n",
       "    return false;\n",
       "  }\n",
       "\n",
       "  var js_urls = [\"https://cdn.pydata.org/bokeh/release/bokeh-0.12.10.min.js\", \"https://cdn.pydata.org/bokeh/release/bokeh-widgets-0.12.10.min.js\", \"https://cdn.pydata.org/bokeh/release/bokeh-tables-0.12.10.min.js\", \"https://cdn.pydata.org/bokeh/release/bokeh-gl-0.12.10.min.js\"];\n",
       "\n",
       "  var inline_js = [\n",
       "    function(Bokeh) {\n",
       "      Bokeh.set_log_level(\"info\");\n",
       "    },\n",
       "    \n",
       "    function(Bokeh) {\n",
       "      \n",
       "    },\n",
       "    function(Bokeh) {\n",
       "      console.log(\"Bokeh: injecting CSS: https://cdn.pydata.org/bokeh/release/bokeh-0.12.10.min.css\");\n",
       "      Bokeh.embed.inject_css(\"https://cdn.pydata.org/bokeh/release/bokeh-0.12.10.min.css\");\n",
       "      console.log(\"Bokeh: injecting CSS: https://cdn.pydata.org/bokeh/release/bokeh-widgets-0.12.10.min.css\");\n",
       "      Bokeh.embed.inject_css(\"https://cdn.pydata.org/bokeh/release/bokeh-widgets-0.12.10.min.css\");\n",
       "      console.log(\"Bokeh: injecting CSS: https://cdn.pydata.org/bokeh/release/bokeh-tables-0.12.10.min.css\");\n",
       "      Bokeh.embed.inject_css(\"https://cdn.pydata.org/bokeh/release/bokeh-tables-0.12.10.min.css\");\n",
       "    }\n",
       "  ];\n",
       "\n",
       "  function run_inline_js() {\n",
       "    \n",
       "    if ((root.Bokeh !== undefined) || (force === true)) {\n",
       "      for (var i = 0; i < inline_js.length; i++) {\n",
       "        inline_js[i].call(root, root.Bokeh);\n",
       "      }if (force === true) {\n",
       "        display_loaded();\n",
       "      }} else if (Date.now() < root._bokeh_timeout) {\n",
       "      setTimeout(run_inline_js, 100);\n",
       "    } else if (!root._bokeh_failed_load) {\n",
       "      console.log(\"Bokeh: BokehJS failed to load within specified timeout.\");\n",
       "      root._bokeh_failed_load = true;\n",
       "    } else if (force !== true) {\n",
       "      var cell = $(document.getElementById(\"ee3eeed0-22db-4e29-b4ae-ba60bb9fb386\")).parents('.cell').data().cell;\n",
       "      cell.output_area.append_execute_result(NB_LOAD_WARNING)\n",
       "    }\n",
       "\n",
       "  }\n",
       "\n",
       "  if (root._bokeh_is_loading === 0) {\n",
       "    console.log(\"Bokeh: BokehJS loaded, going straight to plotting\");\n",
       "    run_inline_js();\n",
       "  } else {\n",
       "    load_libs(js_urls, function() {\n",
       "      console.log(\"Bokeh: BokehJS plotting callback run at\", now());\n",
       "      run_inline_js();\n",
       "    });\n",
       "  }\n",
       "}(window));"
      ],
      "application/vnd.bokehjs_load.v0+json": "\n(function(root) {\n  function now() {\n    return new Date();\n  }\n\n  var force = true;\n\n  if (typeof (root._bokeh_onload_callbacks) === \"undefined\" || force === true) {\n    root._bokeh_onload_callbacks = [];\n    root._bokeh_is_loading = undefined;\n  }\n\n  \n\n  \n  if (typeof (root._bokeh_timeout) === \"undefined\" || force === true) {\n    root._bokeh_timeout = Date.now() + 5000;\n    root._bokeh_failed_load = false;\n  }\n\n  var NB_LOAD_WARNING = {'data': {'text/html':\n     \"<div style='background-color: #fdd'>\\n\"+\n     \"<p>\\n\"+\n     \"BokehJS does not appear to have successfully loaded. If loading BokehJS from CDN, this \\n\"+\n     \"may be due to a slow or bad network connection. Possible fixes:\\n\"+\n     \"</p>\\n\"+\n     \"<ul>\\n\"+\n     \"<li>re-rerun `output_notebook()` to attempt to load from CDN again, or</li>\\n\"+\n     \"<li>use INLINE resources instead, as so:</li>\\n\"+\n     \"</ul>\\n\"+\n     \"<code>\\n\"+\n     \"from bokeh.resources import INLINE\\n\"+\n     \"output_notebook(resources=INLINE)\\n\"+\n     \"</code>\\n\"+\n     \"</div>\"}};\n\n  function display_loaded() {\n    var el = document.getElementById(\"ee3eeed0-22db-4e29-b4ae-ba60bb9fb386\");\n    if (el != null) {\n      el.textContent = \"BokehJS is loading...\";\n    }\n    if (root.Bokeh !== undefined) {\n      if (el != null) {\n        el.textContent = \"BokehJS \" + root.Bokeh.version + \" successfully loaded.\";\n      }\n    } else if (Date.now() < root._bokeh_timeout) {\n      setTimeout(display_loaded, 100)\n    }\n  }\n\n\n  function run_callbacks() {\n    try {\n      root._bokeh_onload_callbacks.forEach(function(callback) { callback() });\n    }\n    finally {\n      delete root._bokeh_onload_callbacks\n    }\n    console.info(\"Bokeh: all callbacks have finished\");\n  }\n\n  function load_libs(js_urls, callback) {\n    root._bokeh_onload_callbacks.push(callback);\n    if (root._bokeh_is_loading > 0) {\n      console.log(\"Bokeh: BokehJS is being loaded, scheduling callback at\", now());\n      return null;\n    }\n    if (js_urls == null || js_urls.length === 0) {\n      run_callbacks();\n      return null;\n    }\n    console.log(\"Bokeh: BokehJS not loaded, scheduling load and callback at\", now());\n    root._bokeh_is_loading = js_urls.length;\n    for (var i = 0; i < js_urls.length; i++) {\n      var url = js_urls[i];\n      var s = document.createElement('script');\n      s.src = url;\n      s.async = false;\n      s.onreadystatechange = s.onload = function() {\n        root._bokeh_is_loading--;\n        if (root._bokeh_is_loading === 0) {\n          console.log(\"Bokeh: all BokehJS libraries loaded\");\n          run_callbacks()\n        }\n      };\n      s.onerror = function() {\n        console.warn(\"failed to load library \" + url);\n      };\n      console.log(\"Bokeh: injecting script tag for BokehJS library: \", url);\n      document.getElementsByTagName(\"head\")[0].appendChild(s);\n    }\n  };var element = document.getElementById(\"ee3eeed0-22db-4e29-b4ae-ba60bb9fb386\");\n  if (element == null) {\n    console.log(\"Bokeh: ERROR: autoload.js configured with elementid 'ee3eeed0-22db-4e29-b4ae-ba60bb9fb386' but no matching script tag was found. \")\n    return false;\n  }\n\n  var js_urls = [\"https://cdn.pydata.org/bokeh/release/bokeh-0.12.10.min.js\", \"https://cdn.pydata.org/bokeh/release/bokeh-widgets-0.12.10.min.js\", \"https://cdn.pydata.org/bokeh/release/bokeh-tables-0.12.10.min.js\", \"https://cdn.pydata.org/bokeh/release/bokeh-gl-0.12.10.min.js\"];\n\n  var inline_js = [\n    function(Bokeh) {\n      Bokeh.set_log_level(\"info\");\n    },\n    \n    function(Bokeh) {\n      \n    },\n    function(Bokeh) {\n      console.log(\"Bokeh: injecting CSS: https://cdn.pydata.org/bokeh/release/bokeh-0.12.10.min.css\");\n      Bokeh.embed.inject_css(\"https://cdn.pydata.org/bokeh/release/bokeh-0.12.10.min.css\");\n      console.log(\"Bokeh: injecting CSS: https://cdn.pydata.org/bokeh/release/bokeh-widgets-0.12.10.min.css\");\n      Bokeh.embed.inject_css(\"https://cdn.pydata.org/bokeh/release/bokeh-widgets-0.12.10.min.css\");\n      console.log(\"Bokeh: injecting CSS: https://cdn.pydata.org/bokeh/release/bokeh-tables-0.12.10.min.css\");\n      Bokeh.embed.inject_css(\"https://cdn.pydata.org/bokeh/release/bokeh-tables-0.12.10.min.css\");\n    }\n  ];\n\n  function run_inline_js() {\n    \n    if ((root.Bokeh !== undefined) || (force === true)) {\n      for (var i = 0; i < inline_js.length; i++) {\n        inline_js[i].call(root, root.Bokeh);\n      }if (force === true) {\n        display_loaded();\n      }} else if (Date.now() < root._bokeh_timeout) {\n      setTimeout(run_inline_js, 100);\n    } else if (!root._bokeh_failed_load) {\n      console.log(\"Bokeh: BokehJS failed to load within specified timeout.\");\n      root._bokeh_failed_load = true;\n    } else if (force !== true) {\n      var cell = $(document.getElementById(\"ee3eeed0-22db-4e29-b4ae-ba60bb9fb386\")).parents('.cell').data().cell;\n      cell.output_area.append_execute_result(NB_LOAD_WARNING)\n    }\n\n  }\n\n  if (root._bokeh_is_loading === 0) {\n    console.log(\"Bokeh: BokehJS loaded, going straight to plotting\");\n    run_inline_js();\n  } else {\n    load_libs(js_urls, function() {\n      console.log(\"Bokeh: BokehJS plotting callback run at\", now());\n      run_inline_js();\n    });\n  }\n}(window));"
     },
     "metadata": {},
     "output_type": "display_data"
    }
   ],
   "source": [
    "from bokeh.plotting import figure \n",
    "from bokeh.io import output_notebook, show\n",
    "import nsepy as n\n",
    "from datetime import *\n",
    "import pandas as pd\n",
    "import matplotlib.pyplot as plt\n",
    "%matplotlib inline\n",
    "import numpy as np\n",
    "output_notebook()"
   ]
  },
  {
   "cell_type": "code",
   "execution_count": 53,
   "metadata": {
    "collapsed": true
   },
   "outputs": [],
   "source": [
    "def fun1(s):\n",
    "    if s=='INFY':\n",
    "        infy = n.get_history(symbol='INFY', start=date(2015,1,1), end=date(2015,12,31))\n",
    "        p = figure(width=500, height=500)\n",
    "        p.line(range(248), infy['Close'],line_width=2)\n",
    "        p.xaxis.axis_label = 'TimeSeries'\n",
    "        p.yaxis.axis_label = 'Close Prices'\n",
    "        show(p)\n",
    "    else:\n",
    "        tcs = n.get_history(symbol='TCS', start=date(2015,1,1), end=date(2015,12,31))\n",
    "        p = figure(width=500, height=500)\n",
    "        p.line(range(248), tcs['Close'],line_width=2)\n",
    "        p.xaxis.axis_label = 'TimeSeries'\n",
    "        p.yaxis.axis_label = 'Close Prices'\n",
    "        show(p)"
   ]
  },
  {
   "cell_type": "code",
   "execution_count": 56,
   "metadata": {},
   "outputs": [
    {
     "data": {
      "text/html": [
       "\n",
       "<div class=\"bk-root\">\n",
       "    <div class=\"bk-plotdiv\" id=\"7911167f-24a1-4e90-ab02-3fe1422d1616\"></div>\n",
       "</div>"
      ]
     },
     "metadata": {},
     "output_type": "display_data"
    },
    {
     "data": {
      "application/javascript": [
       "(function(root) {\n",
       "  function embed_document(root) {\n",
       "    var docs_json = {\"be039a32-8a41-4dfe-a6d0-9f8978077805\":{\"roots\":{\"references\":[{\"attributes\":{\"line_color\":{\"value\":\"#1f77b4\"},\"line_width\":{\"value\":2},\"x\":{\"field\":\"x\"},\"y\":{\"field\":\"y\"}},\"id\":\"b233c36a-b9e8-4c99-8532-9c13ed8c425a\",\"type\":\"Line\"},{\"attributes\":{},\"id\":\"66ae6b14-571a-41b0-a43b-51b273f27b11\",\"type\":\"ResetTool\"},{\"attributes\":{},\"id\":\"25c4898d-c482-4836-b01d-d8098ab1dd94\",\"type\":\"SaveTool\"},{\"attributes\":{},\"id\":\"17c43cb3-5ccf-4db2-be0e-1159d15cd481\",\"type\":\"HelpTool\"},{\"attributes\":{\"axis_label\":\"Close Prices\",\"formatter\":{\"id\":\"6f230905-7580-4892-a1aa-7af448f4449f\",\"type\":\"BasicTickFormatter\"},\"plot\":{\"id\":\"2188196c-2ac7-4d99-b702-680458a8f8f1\",\"subtype\":\"Figure\",\"type\":\"Plot\"},\"ticker\":{\"id\":\"0861f570-4555-463f-a5d9-ae3cff67addf\",\"type\":\"BasicTicker\"}},\"id\":\"bdf38d94-202c-4599-b642-824d485d9c35\",\"type\":\"LinearAxis\"},{\"attributes\":{},\"id\":\"6f230905-7580-4892-a1aa-7af448f4449f\",\"type\":\"BasicTickFormatter\"},{\"attributes\":{\"overlay\":{\"id\":\"41f3b4ba-e9e7-458a-9cec-65c291695c43\",\"type\":\"BoxAnnotation\"}},\"id\":\"67a6fa71-3e26-463e-8236-6da71a683947\",\"type\":\"BoxZoomTool\"},{\"attributes\":{},\"id\":\"b2fb47b3-5f93-44a4-8359-32c629879820\",\"type\":\"WheelZoomTool\"},{\"attributes\":{},\"id\":\"e5d5ac09-4ef4-4791-b18e-7d23e998cdb9\",\"type\":\"PanTool\"},{\"attributes\":{},\"id\":\"495017ce-c8b0-4307-a25b-1e20bcd7a0a7\",\"type\":\"LinearScale\"},{\"attributes\":{},\"id\":\"e2e17f44-7265-4168-b68d-54421c826128\",\"type\":\"LinearScale\"},{\"attributes\":{\"axis_label\":\"TimeSeries\",\"formatter\":{\"id\":\"eec5c6a8-fc83-4203-bcd4-0da83689fb58\",\"type\":\"BasicTickFormatter\"},\"plot\":{\"id\":\"2188196c-2ac7-4d99-b702-680458a8f8f1\",\"subtype\":\"Figure\",\"type\":\"Plot\"},\"ticker\":{\"id\":\"f1c86696-9718-4f40-9cd6-f38aaa3b1272\",\"type\":\"BasicTicker\"}},\"id\":\"65a51b68-6522-42b5-ad87-5bb3b3436fea\",\"type\":\"LinearAxis\"},{\"attributes\":{\"data_source\":{\"id\":\"e3102636-f9dd-4401-9370-0c7bd1620309\",\"type\":\"ColumnDataSource\"},\"glyph\":{\"id\":\"b233c36a-b9e8-4c99-8532-9c13ed8c425a\",\"type\":\"Line\"},\"hover_glyph\":null,\"muted_glyph\":null,\"nonselection_glyph\":{\"id\":\"8961ae4b-0d41-446a-ae31-a6f347b8b52c\",\"type\":\"Line\"},\"selection_glyph\":null,\"view\":{\"id\":\"46eb4906-f5b6-4627-80bc-9569b4cc7870\",\"type\":\"CDSView\"}},\"id\":\"07a9a7f8-1794-4946-9abf-867cc62225de\",\"type\":\"GlyphRenderer\"},{\"attributes\":{\"plot\":null,\"text\":\"\"},\"id\":\"0541aa9e-020f-42f5-94a0-f2ff3d9396f0\",\"type\":\"Title\"},{\"attributes\":{},\"id\":\"0861f570-4555-463f-a5d9-ae3cff67addf\",\"type\":\"BasicTicker\"},{\"attributes\":{\"below\":[{\"id\":\"65a51b68-6522-42b5-ad87-5bb3b3436fea\",\"type\":\"LinearAxis\"}],\"left\":[{\"id\":\"bdf38d94-202c-4599-b642-824d485d9c35\",\"type\":\"LinearAxis\"}],\"plot_height\":500,\"plot_width\":500,\"renderers\":[{\"id\":\"65a51b68-6522-42b5-ad87-5bb3b3436fea\",\"type\":\"LinearAxis\"},{\"id\":\"9f62fa07-1a39-4c9b-8712-bd1eefa07ef6\",\"type\":\"Grid\"},{\"id\":\"bdf38d94-202c-4599-b642-824d485d9c35\",\"type\":\"LinearAxis\"},{\"id\":\"35c046d1-af51-46a5-b889-c22b3a2f2025\",\"type\":\"Grid\"},{\"id\":\"41f3b4ba-e9e7-458a-9cec-65c291695c43\",\"type\":\"BoxAnnotation\"},{\"id\":\"07a9a7f8-1794-4946-9abf-867cc62225de\",\"type\":\"GlyphRenderer\"}],\"title\":{\"id\":\"0541aa9e-020f-42f5-94a0-f2ff3d9396f0\",\"type\":\"Title\"},\"toolbar\":{\"id\":\"938150e6-a21e-4d47-8838-3cbcca71b9e8\",\"type\":\"Toolbar\"},\"x_range\":{\"id\":\"a7cbd994-ecfe-4e1a-941e-1de793678522\",\"type\":\"DataRange1d\"},\"x_scale\":{\"id\":\"e2e17f44-7265-4168-b68d-54421c826128\",\"type\":\"LinearScale\"},\"y_range\":{\"id\":\"4ca7ee38-18bc-41e3-85f4-b2a9539dfc8d\",\"type\":\"DataRange1d\"},\"y_scale\":{\"id\":\"495017ce-c8b0-4307-a25b-1e20bcd7a0a7\",\"type\":\"LinearScale\"}},\"id\":\"2188196c-2ac7-4d99-b702-680458a8f8f1\",\"subtype\":\"Figure\",\"type\":\"Plot\"},{\"attributes\":{\"callback\":null},\"id\":\"4ca7ee38-18bc-41e3-85f4-b2a9539dfc8d\",\"type\":\"DataRange1d\"},{\"attributes\":{\"active_drag\":\"auto\",\"active_inspect\":\"auto\",\"active_scroll\":\"auto\",\"active_tap\":\"auto\",\"tools\":[{\"id\":\"e5d5ac09-4ef4-4791-b18e-7d23e998cdb9\",\"type\":\"PanTool\"},{\"id\":\"b2fb47b3-5f93-44a4-8359-32c629879820\",\"type\":\"WheelZoomTool\"},{\"id\":\"67a6fa71-3e26-463e-8236-6da71a683947\",\"type\":\"BoxZoomTool\"},{\"id\":\"25c4898d-c482-4836-b01d-d8098ab1dd94\",\"type\":\"SaveTool\"},{\"id\":\"66ae6b14-571a-41b0-a43b-51b273f27b11\",\"type\":\"ResetTool\"},{\"id\":\"17c43cb3-5ccf-4db2-be0e-1159d15cd481\",\"type\":\"HelpTool\"}]},\"id\":\"938150e6-a21e-4d47-8838-3cbcca71b9e8\",\"type\":\"Toolbar\"},{\"attributes\":{\"dimension\":1,\"plot\":{\"id\":\"2188196c-2ac7-4d99-b702-680458a8f8f1\",\"subtype\":\"Figure\",\"type\":\"Plot\"},\"ticker\":{\"id\":\"0861f570-4555-463f-a5d9-ae3cff67addf\",\"type\":\"BasicTicker\"}},\"id\":\"35c046d1-af51-46a5-b889-c22b3a2f2025\",\"type\":\"Grid\"},{\"attributes\":{\"source\":{\"id\":\"e3102636-f9dd-4401-9370-0c7bd1620309\",\"type\":\"ColumnDataSource\"}},\"id\":\"46eb4906-f5b6-4627-80bc-9569b4cc7870\",\"type\":\"CDSView\"},{\"attributes\":{\"line_alpha\":{\"value\":0.1},\"line_color\":{\"value\":\"#1f77b4\"},\"line_width\":{\"value\":2},\"x\":{\"field\":\"x\"},\"y\":{\"field\":\"y\"}},\"id\":\"8961ae4b-0d41-446a-ae31-a6f347b8b52c\",\"type\":\"Line\"},{\"attributes\":{\"bottom_units\":\"screen\",\"fill_alpha\":{\"value\":0.5},\"fill_color\":{\"value\":\"lightgrey\"},\"left_units\":\"screen\",\"level\":\"overlay\",\"line_alpha\":{\"value\":1.0},\"line_color\":{\"value\":\"black\"},\"line_dash\":[4,4],\"line_width\":{\"value\":2},\"plot\":null,\"render_mode\":\"css\",\"right_units\":\"screen\",\"top_units\":\"screen\"},\"id\":\"41f3b4ba-e9e7-458a-9cec-65c291695c43\",\"type\":\"BoxAnnotation\"},{\"attributes\":{\"plot\":{\"id\":\"2188196c-2ac7-4d99-b702-680458a8f8f1\",\"subtype\":\"Figure\",\"type\":\"Plot\"},\"ticker\":{\"id\":\"f1c86696-9718-4f40-9cd6-f38aaa3b1272\",\"type\":\"BasicTicker\"}},\"id\":\"9f62fa07-1a39-4c9b-8712-bd1eefa07ef6\",\"type\":\"Grid\"},{\"attributes\":{\"callback\":null,\"column_names\":[\"x\",\"y\"],\"data\":{\"x\":[0,1,2,3,4,5,6,7,8,9,10,11,12,13,14,15,16,17,18,19,20,21,22,23,24,25,26,27,28,29,30,31,32,33,34,35,36,37,38,39,40,41,42,43,44,45,46,47,48,49,50,51,52,53,54,55,56,57,58,59,60,61,62,63,64,65,66,67,68,69,70,71,72,73,74,75,76,77,78,79,80,81,82,83,84,85,86,87,88,89,90,91,92,93,94,95,96,97,98,99,100,101,102,103,104,105,106,107,108,109,110,111,112,113,114,115,116,117,118,119,120,121,122,123,124,125,126,127,128,129,130,131,132,133,134,135,136,137,138,139,140,141,142,143,144,145,146,147,148,149,150,151,152,153,154,155,156,157,158,159,160,161,162,163,164,165,166,167,168,169,170,171,172,173,174,175,176,177,178,179,180,181,182,183,184,185,186,187,188,189,190,191,192,193,194,195,196,197,198,199,200,201,202,203,204,205,206,207,208,209,210,211,212,213,214,215,216,217,218,219,220,221,222,223,224,225,226,227,228,229,230,231,232,233,234,235,236,237,238,239,240,241,242,243,244,245,246,247],\"y\":{\"__ndarray__\":\"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\",\"dtype\":\"float64\",\"shape\":[248]}}},\"id\":\"e3102636-f9dd-4401-9370-0c7bd1620309\",\"type\":\"ColumnDataSource\"},{\"attributes\":{\"callback\":null},\"id\":\"a7cbd994-ecfe-4e1a-941e-1de793678522\",\"type\":\"DataRange1d\"},{\"attributes\":{},\"id\":\"eec5c6a8-fc83-4203-bcd4-0da83689fb58\",\"type\":\"BasicTickFormatter\"},{\"attributes\":{},\"id\":\"f1c86696-9718-4f40-9cd6-f38aaa3b1272\",\"type\":\"BasicTicker\"}],\"root_ids\":[\"2188196c-2ac7-4d99-b702-680458a8f8f1\"]},\"title\":\"Bokeh Application\",\"version\":\"0.12.10\"}};\n",
       "    var render_items = [{\"docid\":\"be039a32-8a41-4dfe-a6d0-9f8978077805\",\"elementid\":\"7911167f-24a1-4e90-ab02-3fe1422d1616\",\"modelid\":\"2188196c-2ac7-4d99-b702-680458a8f8f1\"}];\n",
       "\n",
       "    root.Bokeh.embed.embed_items(docs_json, render_items);\n",
       "  }\n",
       "\n",
       "  if (root.Bokeh !== undefined) {\n",
       "    embed_document(root);\n",
       "  } else {\n",
       "    var attempts = 0;\n",
       "    var timer = setInterval(function(root) {\n",
       "      if (root.Bokeh !== undefined) {\n",
       "        embed_document(root);\n",
       "        clearInterval(timer);\n",
       "      }\n",
       "      attempts++;\n",
       "      if (attempts > 100) {\n",
       "        console.log(\"Bokeh: ERROR: Unable to embed document because BokehJS library is missing\")\n",
       "        clearInterval(timer);\n",
       "      }\n",
       "    }, 10, root)\n",
       "  }\n",
       "})(window);"
      ],
      "application/vnd.bokehjs_exec.v0+json": ""
     },
     "metadata": {
      "application/vnd.bokehjs_exec.v0+json": {
       "id": "2188196c-2ac7-4d99-b702-680458a8f8f1"
      }
     },
     "output_type": "display_data"
    }
   ],
   "source": [
    "fun1('INFY') # Part 2.1"
   ]
  },
  {
   "cell_type": "code",
   "execution_count": 57,
   "metadata": {
    "scrolled": true
   },
   "outputs": [
    {
     "data": {
      "text/html": [
       "\n",
       "<div class=\"bk-root\">\n",
       "    <div class=\"bk-plotdiv\" id=\"8f679138-732f-4d4d-a6d9-3a788eaea5d2\"></div>\n",
       "</div>"
      ]
     },
     "metadata": {},
     "output_type": "display_data"
    },
    {
     "data": {
      "application/javascript": [
       "(function(root) {\n",
       "  function embed_document(root) {\n",
       "    var docs_json = {\"c23c979f-1275-436d-ad9d-00efcf30067d\":{\"roots\":{\"references\":[{\"attributes\":{\"bottom_units\":\"screen\",\"fill_alpha\":{\"value\":0.5},\"fill_color\":{\"value\":\"lightgrey\"},\"left_units\":\"screen\",\"level\":\"overlay\",\"line_alpha\":{\"value\":1.0},\"line_color\":{\"value\":\"black\"},\"line_dash\":[4,4],\"line_width\":{\"value\":2},\"plot\":null,\"render_mode\":\"css\",\"right_units\":\"screen\",\"top_units\":\"screen\"},\"id\":\"4e0279a9-9ea1-41cf-bac1-94902b0e5bec\",\"type\":\"BoxAnnotation\"},{\"attributes\":{\"data_source\":{\"id\":\"15868e09-82c8-4833-be77-b56f402453bd\",\"type\":\"ColumnDataSource\"},\"glyph\":{\"id\":\"a501f3e4-d9db-44b4-87ba-125cbd6d932c\",\"type\":\"Line\"},\"hover_glyph\":null,\"muted_glyph\":null,\"nonselection_glyph\":{\"id\":\"5b3e220a-a275-49b7-b9ba-8f64b4853c32\",\"type\":\"Line\"},\"selection_glyph\":null,\"view\":{\"id\":\"bd390721-0d1a-40ac-bfd7-ef40d57022ef\",\"type\":\"CDSView\"}},\"id\":\"f48f9cb7-b974-42f9-8b92-8fdd39f228f8\",\"type\":\"GlyphRenderer\"},{\"attributes\":{},\"id\":\"e6e9364e-66df-4779-a3f9-c89b1ab606b1\",\"type\":\"LinearScale\"},{\"attributes\":{},\"id\":\"8859ab89-51c3-4d54-a155-3fadf7f6bbeb\",\"type\":\"WheelZoomTool\"},{\"attributes\":{\"line_alpha\":{\"value\":0.1},\"line_color\":{\"value\":\"#1f77b4\"},\"line_width\":{\"value\":2},\"x\":{\"field\":\"x\"},\"y\":{\"field\":\"y\"}},\"id\":\"5b3e220a-a275-49b7-b9ba-8f64b4853c32\",\"type\":\"Line\"},{\"attributes\":{\"callback\":null},\"id\":\"c0bbe184-5a89-4944-927d-29ce9137711d\",\"type\":\"DataRange1d\"},{\"attributes\":{},\"id\":\"84310661-3caf-486a-8d14-b30cc9c541d2\",\"type\":\"BasicTicker\"},{\"attributes\":{\"line_color\":{\"value\":\"#1f77b4\"},\"line_width\":{\"value\":2},\"x\":{\"field\":\"x\"},\"y\":{\"field\":\"y\"}},\"id\":\"a501f3e4-d9db-44b4-87ba-125cbd6d932c\",\"type\":\"Line\"},{\"attributes\":{},\"id\":\"ed4d9834-6872-4bb6-b8a2-b3135a02ffc2\",\"type\":\"ResetTool\"},{\"attributes\":{},\"id\":\"d23c9fd7-8ce5-4bd4-b2dc-f17a1b3e5000\",\"type\":\"BasicTickFormatter\"},{\"attributes\":{\"dimension\":1,\"plot\":{\"id\":\"0d0559cf-f925-4ac6-adba-0704a7483e5f\",\"subtype\":\"Figure\",\"type\":\"Plot\"},\"ticker\":{\"id\":\"9963db97-5adc-4187-a6f7-a20e33bf5b64\",\"type\":\"BasicTicker\"}},\"id\":\"c64cf2f1-6ef4-4f1a-b64d-6bb472492d91\",\"type\":\"Grid\"},{\"attributes\":{\"plot\":{\"id\":\"0d0559cf-f925-4ac6-adba-0704a7483e5f\",\"subtype\":\"Figure\",\"type\":\"Plot\"},\"ticker\":{\"id\":\"84310661-3caf-486a-8d14-b30cc9c541d2\",\"type\":\"BasicTicker\"}},\"id\":\"1200518e-7837-447b-9425-590da08b0274\",\"type\":\"Grid\"},{\"attributes\":{\"callback\":null},\"id\":\"9b82c3e0-3525-411d-9793-ef9274257acc\",\"type\":\"DataRange1d\"},{\"attributes\":{\"axis_label\":\"TimeSeries\",\"formatter\":{\"id\":\"35eb1a53-7a86-4071-8fb9-d036763c1349\",\"type\":\"BasicTickFormatter\"},\"plot\":{\"id\":\"0d0559cf-f925-4ac6-adba-0704a7483e5f\",\"subtype\":\"Figure\",\"type\":\"Plot\"},\"ticker\":{\"id\":\"84310661-3caf-486a-8d14-b30cc9c541d2\",\"type\":\"BasicTicker\"}},\"id\":\"146ba50d-d664-45b6-b785-a12854bf9523\",\"type\":\"LinearAxis\"},{\"attributes\":{\"active_drag\":\"auto\",\"active_inspect\":\"auto\",\"active_scroll\":\"auto\",\"active_tap\":\"auto\",\"tools\":[{\"id\":\"c31640d3-6e6f-4d74-8492-b61514dca19a\",\"type\":\"PanTool\"},{\"id\":\"8859ab89-51c3-4d54-a155-3fadf7f6bbeb\",\"type\":\"WheelZoomTool\"},{\"id\":\"30e41374-2b83-4e1f-9fd2-7299329b64ba\",\"type\":\"BoxZoomTool\"},{\"id\":\"35df818d-ea37-42dd-ba3f-c95ecd141c3a\",\"type\":\"SaveTool\"},{\"id\":\"ed4d9834-6872-4bb6-b8a2-b3135a02ffc2\",\"type\":\"ResetTool\"},{\"id\":\"5dd9c6bc-7c10-49b5-9383-19e45b29b51e\",\"type\":\"HelpTool\"}]},\"id\":\"84e526a3-e588-4a82-9773-ecd583c94aeb\",\"type\":\"Toolbar\"},{\"attributes\":{\"below\":[{\"id\":\"146ba50d-d664-45b6-b785-a12854bf9523\",\"type\":\"LinearAxis\"}],\"left\":[{\"id\":\"e1307bd4-6275-46ee-a06f-124f5337f2b0\",\"type\":\"LinearAxis\"}],\"plot_height\":500,\"plot_width\":500,\"renderers\":[{\"id\":\"146ba50d-d664-45b6-b785-a12854bf9523\",\"type\":\"LinearAxis\"},{\"id\":\"1200518e-7837-447b-9425-590da08b0274\",\"type\":\"Grid\"},{\"id\":\"e1307bd4-6275-46ee-a06f-124f5337f2b0\",\"type\":\"LinearAxis\"},{\"id\":\"c64cf2f1-6ef4-4f1a-b64d-6bb472492d91\",\"type\":\"Grid\"},{\"id\":\"4e0279a9-9ea1-41cf-bac1-94902b0e5bec\",\"type\":\"BoxAnnotation\"},{\"id\":\"f48f9cb7-b974-42f9-8b92-8fdd39f228f8\",\"type\":\"GlyphRenderer\"}],\"title\":{\"id\":\"5f38fd71-28a5-4b06-8aa2-5732470d6362\",\"type\":\"Title\"},\"toolbar\":{\"id\":\"84e526a3-e588-4a82-9773-ecd583c94aeb\",\"type\":\"Toolbar\"},\"x_range\":{\"id\":\"c0bbe184-5a89-4944-927d-29ce9137711d\",\"type\":\"DataRange1d\"},\"x_scale\":{\"id\":\"9d1629e3-6950-4217-945a-0ecbb9628e2a\",\"type\":\"LinearScale\"},\"y_range\":{\"id\":\"9b82c3e0-3525-411d-9793-ef9274257acc\",\"type\":\"DataRange1d\"},\"y_scale\":{\"id\":\"e6e9364e-66df-4779-a3f9-c89b1ab606b1\",\"type\":\"LinearScale\"}},\"id\":\"0d0559cf-f925-4ac6-adba-0704a7483e5f\",\"subtype\":\"Figure\",\"type\":\"Plot\"},{\"attributes\":{},\"id\":\"5dd9c6bc-7c10-49b5-9383-19e45b29b51e\",\"type\":\"HelpTool\"},{\"attributes\":{\"plot\":null,\"text\":\"\"},\"id\":\"5f38fd71-28a5-4b06-8aa2-5732470d6362\",\"type\":\"Title\"},{\"attributes\":{\"callback\":null,\"column_names\":[\"x\",\"y\"],\"data\":{\"x\":[0,1,2,3,4,5,6,7,8,9,10,11,12,13,14,15,16,17,18,19,20,21,22,23,24,25,26,27,28,29,30,31,32,33,34,35,36,37,38,39,40,41,42,43,44,45,46,47,48,49,50,51,52,53,54,55,56,57,58,59,60,61,62,63,64,65,66,67,68,69,70,71,72,73,74,75,76,77,78,79,80,81,82,83,84,85,86,87,88,89,90,91,92,93,94,95,96,97,98,99,100,101,102,103,104,105,106,107,108,109,110,111,112,113,114,115,116,117,118,119,120,121,122,123,124,125,126,127,128,129,130,131,132,133,134,135,136,137,138,139,140,141,142,143,144,145,146,147,148,149,150,151,152,153,154,155,156,157,158,159,160,161,162,163,164,165,166,167,168,169,170,171,172,173,174,175,176,177,178,179,180,181,182,183,184,185,186,187,188,189,190,191,192,193,194,195,196,197,198,199,200,201,202,203,204,205,206,207,208,209,210,211,212,213,214,215,216,217,218,219,220,221,222,223,224,225,226,227,228,229,230,231,232,233,234,235,236,237,238,239,240,241,242,243,244,245,246,247],\"y\":{\"__ndarray__\":\"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\",\"dtype\":\"float64\",\"shape\":[248]}}},\"id\":\"15868e09-82c8-4833-be77-b56f402453bd\",\"type\":\"ColumnDataSource\"},{\"attributes\":{},\"id\":\"35eb1a53-7a86-4071-8fb9-d036763c1349\",\"type\":\"BasicTickFormatter\"},{\"attributes\":{\"source\":{\"id\":\"15868e09-82c8-4833-be77-b56f402453bd\",\"type\":\"ColumnDataSource\"}},\"id\":\"bd390721-0d1a-40ac-bfd7-ef40d57022ef\",\"type\":\"CDSView\"},{\"attributes\":{},\"id\":\"c31640d3-6e6f-4d74-8492-b61514dca19a\",\"type\":\"PanTool\"},{\"attributes\":{},\"id\":\"35df818d-ea37-42dd-ba3f-c95ecd141c3a\",\"type\":\"SaveTool\"},{\"attributes\":{},\"id\":\"9963db97-5adc-4187-a6f7-a20e33bf5b64\",\"type\":\"BasicTicker\"},{\"attributes\":{},\"id\":\"9d1629e3-6950-4217-945a-0ecbb9628e2a\",\"type\":\"LinearScale\"},{\"attributes\":{\"overlay\":{\"id\":\"4e0279a9-9ea1-41cf-bac1-94902b0e5bec\",\"type\":\"BoxAnnotation\"}},\"id\":\"30e41374-2b83-4e1f-9fd2-7299329b64ba\",\"type\":\"BoxZoomTool\"},{\"attributes\":{\"axis_label\":\"Close Prices\",\"formatter\":{\"id\":\"d23c9fd7-8ce5-4bd4-b2dc-f17a1b3e5000\",\"type\":\"BasicTickFormatter\"},\"plot\":{\"id\":\"0d0559cf-f925-4ac6-adba-0704a7483e5f\",\"subtype\":\"Figure\",\"type\":\"Plot\"},\"ticker\":{\"id\":\"9963db97-5adc-4187-a6f7-a20e33bf5b64\",\"type\":\"BasicTicker\"}},\"id\":\"e1307bd4-6275-46ee-a06f-124f5337f2b0\",\"type\":\"LinearAxis\"}],\"root_ids\":[\"0d0559cf-f925-4ac6-adba-0704a7483e5f\"]},\"title\":\"Bokeh Application\",\"version\":\"0.12.10\"}};\n",
       "    var render_items = [{\"docid\":\"c23c979f-1275-436d-ad9d-00efcf30067d\",\"elementid\":\"8f679138-732f-4d4d-a6d9-3a788eaea5d2\",\"modelid\":\"0d0559cf-f925-4ac6-adba-0704a7483e5f\"}];\n",
       "\n",
       "    root.Bokeh.embed.embed_items(docs_json, render_items);\n",
       "  }\n",
       "\n",
       "  if (root.Bokeh !== undefined) {\n",
       "    embed_document(root);\n",
       "  } else {\n",
       "    var attempts = 0;\n",
       "    var timer = setInterval(function(root) {\n",
       "      if (root.Bokeh !== undefined) {\n",
       "        embed_document(root);\n",
       "        clearInterval(timer);\n",
       "      }\n",
       "      attempts++;\n",
       "      if (attempts > 100) {\n",
       "        console.log(\"Bokeh: ERROR: Unable to embed document because BokehJS library is missing\")\n",
       "        clearInterval(timer);\n",
       "      }\n",
       "    }, 10, root)\n",
       "  }\n",
       "})(window);"
      ],
      "application/vnd.bokehjs_exec.v0+json": ""
     },
     "metadata": {
      "application/vnd.bokehjs_exec.v0+json": {
       "id": "0d0559cf-f925-4ac6-adba-0704a7483e5f"
      }
     },
     "output_type": "display_data"
    }
   ],
   "source": [
    "fun1('TCS') # Part 2.1"
   ]
  },
  {
   "cell_type": "code",
   "execution_count": 58,
   "metadata": {
    "collapsed": true
   },
   "outputs": [],
   "source": [
    "def fun(s):# function to get shocks\n",
    "    if s=='INFY':\n",
    "        infy = n.get_history(symbol='INFY', start=date(2015,1,1), end=date(2015,12,31))\n",
    "        k=infy.copy()\n",
    "        k['Volume Shocks']=np.nan\n",
    "        k['Pricing Shocks']=np.nan\n",
    "        for i in range(1,248): \n",
    "            k['Volume Shocks'][i]=pd.Series((  ((k['Volume'][i-1]-k['Volume'][i])/k['Volume'][i])>0   and ((k['Volume'][i-1]-k['Volume'][i])/k['Volume'][i] >0.1)   ).astype(int))\n",
    "        \n",
    "        for i in range(0,247): \n",
    "            k['Pricing Shocks'][i]=pd.Series(    abs(k['Close'][i]-k['Close'][i+1])/k['Close'][i]>0.02    )\n",
    "        return k\n",
    "    else:\n",
    "        tcs = n.get_history(symbol='TCS', start=date(2015,1,1), end=date(2015,12,31))\n",
    "        k=tcs.copy()\n",
    "        k['Volume Shocks']=np.nan\n",
    "        k['Pricing Shocks']=np.nan\n",
    "        for i in range(1,248): \n",
    "            k['Volume Shocks'][i]=pd.Series((  ((k['Volume'][i-1]-k['Volume'][i])/k['Volume'][i])>0   and ((k['Volume'][i-1]-k['Volume'][i])/k['Volume'][i] >0.1)   ).astype(int))\n",
    "        \n",
    "        for i in range(0,247): \n",
    "            k['Pricing Shocks'][i]=pd.Series(    abs(k['Close'][i]-k['Close'][i+1])/k['Close'][i]>0.02    )\n",
    "        return k\n",
    "        "
   ]
  },
  {
   "cell_type": "code",
   "execution_count": null,
   "metadata": {
    "collapsed": true
   },
   "outputs": [],
   "source": []
  },
  {
   "cell_type": "code",
   "execution_count": 59,
   "metadata": {
    "collapsed": true
   },
   "outputs": [],
   "source": [
    "def fun2(s):\n",
    "    if(s=='INFY'):\n",
    "    \n",
    "        infy=fun(s)\n",
    "        p = figure(width=500, height=500)\n",
    "        p.line(infy['Volume Shocks'], infy['Close'],line_width=2,color='red')\n",
    "        p.xaxis.axis_label = 'Volume Shocks'\n",
    "        p.yaxis.axis_label = 'Close Prices'\n",
    "        show(p)\n",
    "    else:\n",
    "        tcs=fun(s)\n",
    "        p = figure(width=500, height=500)\n",
    "        p.line(tcs['Volume Shocks'], tcs['Close'],line_width=2,color='red')\n",
    "        p.xaxis.axis_label = 'Volume Shocks'\n",
    "        p.yaxis.axis_label = 'Close Prices'\n",
    "        show(p)\n",
    "        \n",
    "    "
   ]
  },
  {
   "cell_type": "code",
   "execution_count": 60,
   "metadata": {},
   "outputs": [
    {
     "name": "stderr",
     "output_type": "stream",
     "text": [
      "C:\\ProgramData\\Anaconda3\\lib\\site-packages\\ipykernel_launcher.py:8: SettingWithCopyWarning: \n",
      "A value is trying to be set on a copy of a slice from a DataFrame\n",
      "\n",
      "See the caveats in the documentation: http://pandas.pydata.org/pandas-docs/stable/indexing.html#indexing-view-versus-copy\n",
      "  \n",
      "C:\\ProgramData\\Anaconda3\\lib\\site-packages\\ipykernel_launcher.py:11: SettingWithCopyWarning: \n",
      "A value is trying to be set on a copy of a slice from a DataFrame\n",
      "\n",
      "See the caveats in the documentation: http://pandas.pydata.org/pandas-docs/stable/indexing.html#indexing-view-versus-copy\n",
      "  # This is added back by InteractiveShellApp.init_path()\n"
     ]
    },
    {
     "data": {
      "text/html": [
       "\n",
       "<div class=\"bk-root\">\n",
       "    <div class=\"bk-plotdiv\" id=\"86c0990f-cc7a-49d3-bb57-8ae40c67e9d1\"></div>\n",
       "</div>"
      ]
     },
     "metadata": {},
     "output_type": "display_data"
    },
    {
     "data": {
      "application/javascript": [
       "(function(root) {\n",
       "  function embed_document(root) {\n",
       "    var docs_json = {\"cb1a994e-cbc7-4b6a-9c2a-5a5d58adce1e\":{\"roots\":{\"references\":[{\"attributes\":{\"data_source\":{\"id\":\"a3db0b7b-ed31-42fb-bcf2-17c42de5b357\",\"type\":\"ColumnDataSource\"},\"glyph\":{\"id\":\"b85df1ff-68df-4f63-bf92-b687072b5399\",\"type\":\"Line\"},\"hover_glyph\":null,\"muted_glyph\":null,\"nonselection_glyph\":{\"id\":\"0aaa5a64-8b05-4d8d-8d53-9e02f0a7087b\",\"type\":\"Line\"},\"selection_glyph\":null,\"view\":{\"id\":\"ac556154-e563-4b87-90ca-95327e0b1ab2\",\"type\":\"CDSView\"}},\"id\":\"6d99fee2-ba31-47f1-9588-57fcabf69573\",\"type\":\"GlyphRenderer\"},{\"attributes\":{},\"id\":\"59b028f7-10ca-4f17-8cf3-2050bc156778\",\"type\":\"ResetTool\"},{\"attributes\":{},\"id\":\"056dede8-a7f1-46ff-a7e6-082bc1f27106\",\"type\":\"HelpTool\"},{\"attributes\":{\"overlay\":{\"id\":\"d63b9bb0-2981-4c67-9db8-f3fa5027325d\",\"type\":\"BoxAnnotation\"}},\"id\":\"ce1831e2-7628-46c2-bf3d-166dff18a482\",\"type\":\"BoxZoomTool\"},{\"attributes\":{},\"id\":\"7ac30723-fc69-4ea0-b07b-f6a3f040eb83\",\"type\":\"PanTool\"},{\"attributes\":{\"line_color\":{\"value\":\"red\"},\"line_width\":{\"value\":2},\"x\":{\"field\":\"x\"},\"y\":{\"field\":\"y\"}},\"id\":\"b85df1ff-68df-4f63-bf92-b687072b5399\",\"type\":\"Line\"},{\"attributes\":{\"source\":{\"id\":\"a3db0b7b-ed31-42fb-bcf2-17c42de5b357\",\"type\":\"ColumnDataSource\"}},\"id\":\"ac556154-e563-4b87-90ca-95327e0b1ab2\",\"type\":\"CDSView\"},{\"attributes\":{\"below\":[{\"id\":\"80b8ccf0-da9d-4d47-935b-7e53ca8f7746\",\"type\":\"LinearAxis\"}],\"left\":[{\"id\":\"caf5e85a-c40b-406e-b27c-bbb14c81b6d3\",\"type\":\"LinearAxis\"}],\"plot_height\":500,\"plot_width\":500,\"renderers\":[{\"id\":\"80b8ccf0-da9d-4d47-935b-7e53ca8f7746\",\"type\":\"LinearAxis\"},{\"id\":\"2250515c-88be-4c8f-8513-e27f45f5d213\",\"type\":\"Grid\"},{\"id\":\"caf5e85a-c40b-406e-b27c-bbb14c81b6d3\",\"type\":\"LinearAxis\"},{\"id\":\"aa136462-cffa-48f1-81c7-f3a0cc889c09\",\"type\":\"Grid\"},{\"id\":\"d63b9bb0-2981-4c67-9db8-f3fa5027325d\",\"type\":\"BoxAnnotation\"},{\"id\":\"6d99fee2-ba31-47f1-9588-57fcabf69573\",\"type\":\"GlyphRenderer\"}],\"title\":{\"id\":\"9d2e4237-c1d2-44e0-a5cb-70147e1091f6\",\"type\":\"Title\"},\"toolbar\":{\"id\":\"6e2cfcfa-272d-4cf2-b29d-c44a78c6f5a4\",\"type\":\"Toolbar\"},\"x_range\":{\"id\":\"178e8785-49b4-4127-941d-8dc4581a57ab\",\"type\":\"DataRange1d\"},\"x_scale\":{\"id\":\"9d4b1836-3c0b-470f-9bb3-e6788fda78af\",\"type\":\"LinearScale\"},\"y_range\":{\"id\":\"e2933990-0293-4aae-af6e-a62bffa96ea2\",\"type\":\"DataRange1d\"},\"y_scale\":{\"id\":\"6737f179-ff0f-4eb2-a30a-548809f2197e\",\"type\":\"LinearScale\"}},\"id\":\"f436b8ff-dcdb-473d-a121-4b0d66b3cc11\",\"subtype\":\"Figure\",\"type\":\"Plot\"},{\"attributes\":{\"bottom_units\":\"screen\",\"fill_alpha\":{\"value\":0.5},\"fill_color\":{\"value\":\"lightgrey\"},\"left_units\":\"screen\",\"level\":\"overlay\",\"line_alpha\":{\"value\":1.0},\"line_color\":{\"value\":\"black\"},\"line_dash\":[4,4],\"line_width\":{\"value\":2},\"plot\":null,\"render_mode\":\"css\",\"right_units\":\"screen\",\"top_units\":\"screen\"},\"id\":\"d63b9bb0-2981-4c67-9db8-f3fa5027325d\",\"type\":\"BoxAnnotation\"},{\"attributes\":{},\"id\":\"62f79f46-8c86-4e67-ae73-91b057cc026e\",\"type\":\"WheelZoomTool\"},{\"attributes\":{\"active_drag\":\"auto\",\"active_inspect\":\"auto\",\"active_scroll\":\"auto\",\"active_tap\":\"auto\",\"tools\":[{\"id\":\"7ac30723-fc69-4ea0-b07b-f6a3f040eb83\",\"type\":\"PanTool\"},{\"id\":\"62f79f46-8c86-4e67-ae73-91b057cc026e\",\"type\":\"WheelZoomTool\"},{\"id\":\"ce1831e2-7628-46c2-bf3d-166dff18a482\",\"type\":\"BoxZoomTool\"},{\"id\":\"2b9beace-4eba-46ec-9734-402517645495\",\"type\":\"SaveTool\"},{\"id\":\"59b028f7-10ca-4f17-8cf3-2050bc156778\",\"type\":\"ResetTool\"},{\"id\":\"056dede8-a7f1-46ff-a7e6-082bc1f27106\",\"type\":\"HelpTool\"}]},\"id\":\"6e2cfcfa-272d-4cf2-b29d-c44a78c6f5a4\",\"type\":\"Toolbar\"},{\"attributes\":{\"callback\":null,\"column_names\":[\"x\",\"y\"],\"data\":{\"x\":{\"__ndarray__\":\"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\",\"dtype\":\"float64\",\"shape\":[248]},\"y\":{\"__ndarray__\":\"mpmZmZnZnkDNzMzMzHSfQJqZmZmZL59AzczMzMyInkAzMzMzM66eQM3MzMzM1Z5AZmZmZuY0oEBmZmZm5oegQM3MzMzMUaBAzczMzEyhoEAAAAAAgKygQJqZmZmZjKBAAAAAAABtoEBmZmZmZpigQM3MzMzM86BAZmZmZuYooUCamZmZGU6hQAAAAAAAsaBAmpmZmRnBoEAAAAAAAMOgQM3MzMzMu6BAMzMzM7OxoEDNzMzMzJGgQDMzMzOzvaBAmpmZmZkjoUAAAAAAAG2hQM3MzMzMkaFAmpmZmZnMoUAzMzMzs9mhQGZmZmZmDqJAMzMzMzPwoUAAAAAAgM2hQAAAAAAA8aFAZmZmZmYpokAzMzMzM9ahQDMzMzMzs6FAmpmZmZnBoUAzMzMzMxuiQDMzMzMzpKFAAAAAAICzoUBmZmZm5vChQGZmZmZm56FAMzMzM7PzoUDNzMzMTMWhQDMzMzMzj6FAmpmZmRkcoUAAAAAAACyhQGZmZmZmDKFAmpmZmZlUoUDNzMzMzFihQM3MzMxMtaFAAAAAAACBoUAAAAAAAGuhQGZmZmbmbKFAZmZmZuaioUBmZmZm5nKhQGZmZmbmRqFAMzMzMzNWoUAzMzMzs8SgQM3MzMxMNKFAAAAAAABooUAzMzMzs1ShQGZmZmbm+6BAZmZmZmYEoUAAAAAAAN+gQJqZmZkZMaFAAAAAAABOoUBmZmZm5nOhQJqZmZmZfaFAZmZmZmZLoUDNzMzMTCWhQAAAAACABqFAzczMzEyooEAzMzMzM72gQGZmZmZms6BAAAAAAACUoEDNzMzMzCyfQJqZmZmZAp9AmpmZmZmjnkCamZmZmaSeQAAAAAAAWZ5AZmZmZmYkn0AAAAAAAKueQDMzMzMzCJ5AAAAAAABgnkDNzMzMzJeeQJqZmZmZJp9AZmZmZmZsnkDNzMzMzJKeQDMzMzMzO55AAAAAAACnnkAzMzMzMySfQGZmZmZmmZ9AMzMzMzP9n0BmZmZm5gCgQM3MzMzM+Z9AMzMzMzODn0AzMzMzM12fQAAAAAAAwp5AZmZmZmaCn0CamZmZmZyfQDMzMzMz/59AmpmZmZlin0CamZmZmZOfQDMzMzMzsJ9AmpmZmZlun0AzMzMzM0CfQGZmZmZmIJ9AAAAAAACqn0CamZmZmTafQDMzMzMz3J5AmpmZmZnzjkDNzMzMzDqPQJqZmZmZHY9AmpmZmZlPj0DNzMzMzBqPQM3MzMzM/o9AMzMzMzNDj0DNzMzMzBiPQJqZmZmZ845AAAAAAABqj0AzMzMzM/GOQM3MzMzMwo5AMzMzMzMrj0AAAAAAAOCOQGZmZmZm8o5AZmZmZma6jkAAAAAAAKSOQAAAAAAA7I1AAAAAAABQjUAAAAAAAEyNQDMzMzMzsY1AAAAAAABajkAAAAAAAMCOQGZmZmZm6I5AzczMzMxOj0AAAAAAAEqPQJqZmZmZYpFAmpmZmZk8kUAAAAAAACiRQGZmZmZm/pBAMzMzMzOlkEBmZmZmZpuQQJqZmZmZ9ZBAAAAAAAC4kEAzMzMzM9SQQM3MzMzM25BAAAAAAACFkEBmZmZmZvmQQM3MzMzM+5BAZmZmZmYekUAAAAAAAPiQQJqZmZmZVJFAmpmZmZnhkUAAAAAAABiSQAAAAAAA9ZFAmpmZmZnYkUBmZmZmZjGSQDMzMzMzXpJAMzMzMzO6kUCamZmZmfeRQDMzMzMzEJFAmpmZmZn2kEBmZmZmZqKQQDMzMzMz65BAMzMzMzNckUCamZmZmRmRQAAAAAAABJFAzczMzMwtkUBmZmZmZi2RQM3MzMzMx5BAAAAAAACLkEAzMzMzM4uQQM3MzMzMApFAzczMzMzhkEAAAAAAAAuRQAAAAAAAL5FAzczMzMwskUCamZmZmTaRQM3MzMzMQZFAmpmZmZlCkUDNzMzMzE2RQAAAAAAAcZFAMzMzMzPSkUAzMzMzM0aRQGZmZmZmh5FAzczMzMwnkkAzMzMzM1SSQAAAAAAAd5JAZmZmZmYKkkDNzMzMzLSRQJqZmZmZsJFAmpmZmZk9kkCamZmZmYuRQJqZmZmZLZFAZmZmZmYmkUBmZmZmZiWRQJqZmZmZG5FAzczMzMxfkUDNzMzMzJeRQJqZmZmZyZFAmpmZmZn3kUCamZmZmQCSQJqZmZmZ9ZFAzczMzMwEkkAzMzMzM+SRQM3MzMzMvZFAzczMzMyskUAAAAAAAOaRQDMzMzMzw5FAmpmZmZmLkUAzMzMzM8mRQGZmZmZmupFAZmZmZmY/kUBmZmZmZk6RQDMzMzMzM5FAzczMzMzgkEAAAAAAAJaQQAAAAAAA4I9AMzMzMzNfkECamZmZmXGQQM3MzMzMdpBAmpmZmZlEkECamZmZmXGQQGZmZmZmqZBAmpmZmZn/kEAAAAAAANyQQM3MzMzMkpBAAAAAAACHkEAzMzMzM2SQQAAAAAAAWZBAmpmZmZlRkEDNzMzMzBCQQGZmZmZmXZBAMzMzMzNzkEAAAAAAALaQQDMzMzMz1pBAZmZmZmYfkUBmZmZmZkyRQJqZmZmZ7JBAzczMzMw9kUAAAAAAAO+QQGZmZmZmM5FAZmZmZmYhkUAAAAAAAEORQM3MzMzMQpFAMzMzMzP5kECamZmZmUWRQA==\",\"dtype\":\"float64\",\"shape\":[248]}}},\"id\":\"a3db0b7b-ed31-42fb-bcf2-17c42de5b357\",\"type\":\"ColumnDataSource\"},{\"attributes\":{\"line_alpha\":{\"value\":0.1},\"line_color\":{\"value\":\"#1f77b4\"},\"line_width\":{\"value\":2},\"x\":{\"field\":\"x\"},\"y\":{\"field\":\"y\"}},\"id\":\"0aaa5a64-8b05-4d8d-8d53-9e02f0a7087b\",\"type\":\"Line\"},{\"attributes\":{\"dimension\":1,\"plot\":{\"id\":\"f436b8ff-dcdb-473d-a121-4b0d66b3cc11\",\"subtype\":\"Figure\",\"type\":\"Plot\"},\"ticker\":{\"id\":\"85b78017-4c56-4816-aa45-bb5990f16bae\",\"type\":\"BasicTicker\"}},\"id\":\"aa136462-cffa-48f1-81c7-f3a0cc889c09\",\"type\":\"Grid\"},{\"attributes\":{\"callback\":null},\"id\":\"178e8785-49b4-4127-941d-8dc4581a57ab\",\"type\":\"DataRange1d\"},{\"attributes\":{},\"id\":\"85b78017-4c56-4816-aa45-bb5990f16bae\",\"type\":\"BasicTicker\"},{\"attributes\":{},\"id\":\"94b75bde-a653-4962-80d5-e640491ef639\",\"type\":\"BasicTickFormatter\"},{\"attributes\":{\"axis_label\":\"Close Prices\",\"formatter\":{\"id\":\"94b75bde-a653-4962-80d5-e640491ef639\",\"type\":\"BasicTickFormatter\"},\"plot\":{\"id\":\"f436b8ff-dcdb-473d-a121-4b0d66b3cc11\",\"subtype\":\"Figure\",\"type\":\"Plot\"},\"ticker\":{\"id\":\"85b78017-4c56-4816-aa45-bb5990f16bae\",\"type\":\"BasicTicker\"}},\"id\":\"caf5e85a-c40b-406e-b27c-bbb14c81b6d3\",\"type\":\"LinearAxis\"},{\"attributes\":{\"axis_label\":\"Volume Shocks\",\"formatter\":{\"id\":\"17309f0c-69c8-4de3-aa34-9adf3910720a\",\"type\":\"BasicTickFormatter\"},\"plot\":{\"id\":\"f436b8ff-dcdb-473d-a121-4b0d66b3cc11\",\"subtype\":\"Figure\",\"type\":\"Plot\"},\"ticker\":{\"id\":\"d71b26ce-49e8-42bc-bef1-673baeb9be78\",\"type\":\"BasicTicker\"}},\"id\":\"80b8ccf0-da9d-4d47-935b-7e53ca8f7746\",\"type\":\"LinearAxis\"},{\"attributes\":{\"plot\":null,\"text\":\"\"},\"id\":\"9d2e4237-c1d2-44e0-a5cb-70147e1091f6\",\"type\":\"Title\"},{\"attributes\":{\"plot\":{\"id\":\"f436b8ff-dcdb-473d-a121-4b0d66b3cc11\",\"subtype\":\"Figure\",\"type\":\"Plot\"},\"ticker\":{\"id\":\"d71b26ce-49e8-42bc-bef1-673baeb9be78\",\"type\":\"BasicTicker\"}},\"id\":\"2250515c-88be-4c8f-8513-e27f45f5d213\",\"type\":\"Grid\"},{\"attributes\":{},\"id\":\"6737f179-ff0f-4eb2-a30a-548809f2197e\",\"type\":\"LinearScale\"},{\"attributes\":{},\"id\":\"9d4b1836-3c0b-470f-9bb3-e6788fda78af\",\"type\":\"LinearScale\"},{\"attributes\":{},\"id\":\"17309f0c-69c8-4de3-aa34-9adf3910720a\",\"type\":\"BasicTickFormatter\"},{\"attributes\":{},\"id\":\"d71b26ce-49e8-42bc-bef1-673baeb9be78\",\"type\":\"BasicTicker\"},{\"attributes\":{\"callback\":null},\"id\":\"e2933990-0293-4aae-af6e-a62bffa96ea2\",\"type\":\"DataRange1d\"},{\"attributes\":{},\"id\":\"2b9beace-4eba-46ec-9734-402517645495\",\"type\":\"SaveTool\"}],\"root_ids\":[\"f436b8ff-dcdb-473d-a121-4b0d66b3cc11\"]},\"title\":\"Bokeh Application\",\"version\":\"0.12.10\"}};\n",
       "    var render_items = [{\"docid\":\"cb1a994e-cbc7-4b6a-9c2a-5a5d58adce1e\",\"elementid\":\"86c0990f-cc7a-49d3-bb57-8ae40c67e9d1\",\"modelid\":\"f436b8ff-dcdb-473d-a121-4b0d66b3cc11\"}];\n",
       "\n",
       "    root.Bokeh.embed.embed_items(docs_json, render_items);\n",
       "  }\n",
       "\n",
       "  if (root.Bokeh !== undefined) {\n",
       "    embed_document(root);\n",
       "  } else {\n",
       "    var attempts = 0;\n",
       "    var timer = setInterval(function(root) {\n",
       "      if (root.Bokeh !== undefined) {\n",
       "        embed_document(root);\n",
       "        clearInterval(timer);\n",
       "      }\n",
       "      attempts++;\n",
       "      if (attempts > 100) {\n",
       "        console.log(\"Bokeh: ERROR: Unable to embed document because BokehJS library is missing\")\n",
       "        clearInterval(timer);\n",
       "      }\n",
       "    }, 10, root)\n",
       "  }\n",
       "})(window);"
      ],
      "application/vnd.bokehjs_exec.v0+json": ""
     },
     "metadata": {
      "application/vnd.bokehjs_exec.v0+json": {
       "id": "f436b8ff-dcdb-473d-a121-4b0d66b3cc11"
      }
     },
     "output_type": "display_data"
    }
   ],
   "source": [
    "fun2('INFY') #part 2.2"
   ]
  },
  {
   "cell_type": "code",
   "execution_count": 61,
   "metadata": {
    "scrolled": true
   },
   "outputs": [
    {
     "name": "stderr",
     "output_type": "stream",
     "text": [
      "C:\\ProgramData\\Anaconda3\\lib\\site-packages\\ipykernel_launcher.py:19: SettingWithCopyWarning: \n",
      "A value is trying to be set on a copy of a slice from a DataFrame\n",
      "\n",
      "See the caveats in the documentation: http://pandas.pydata.org/pandas-docs/stable/indexing.html#indexing-view-versus-copy\n",
      "C:\\ProgramData\\Anaconda3\\lib\\site-packages\\ipykernel_launcher.py:22: SettingWithCopyWarning: \n",
      "A value is trying to be set on a copy of a slice from a DataFrame\n",
      "\n",
      "See the caveats in the documentation: http://pandas.pydata.org/pandas-docs/stable/indexing.html#indexing-view-versus-copy\n"
     ]
    },
    {
     "data": {
      "text/html": [
       "\n",
       "<div class=\"bk-root\">\n",
       "    <div class=\"bk-plotdiv\" id=\"813b0198-11b1-41ba-a9ea-cf8694d74eec\"></div>\n",
       "</div>"
      ]
     },
     "metadata": {},
     "output_type": "display_data"
    },
    {
     "data": {
      "application/javascript": [
       "(function(root) {\n",
       "  function embed_document(root) {\n",
       "    var docs_json = {\"6e25fceb-90ab-41ce-84b8-3aed1036f97e\":{\"roots\":{\"references\":[{\"attributes\":{\"data_source\":{\"id\":\"1fccb91b-ce6d-45ed-8473-fc603eea6b37\",\"type\":\"ColumnDataSource\"},\"glyph\":{\"id\":\"1a7c0d6e-f781-47a5-b7c4-3d53140e5fbd\",\"type\":\"Line\"},\"hover_glyph\":null,\"muted_glyph\":null,\"nonselection_glyph\":{\"id\":\"e1de1a67-1a4f-4e83-93db-8f5fbde18790\",\"type\":\"Line\"},\"selection_glyph\":null,\"view\":{\"id\":\"71e50379-350b-45d6-8f18-96c983b86ce2\",\"type\":\"CDSView\"}},\"id\":\"9071d3e2-e2f2-4dad-acf3-8ca2446f1628\",\"type\":\"GlyphRenderer\"},{\"attributes\":{},\"id\":\"cfd2e1f5-bd77-428a-9411-9b62cad7d107\",\"type\":\"SaveTool\"},{\"attributes\":{\"line_color\":{\"value\":\"red\"},\"line_width\":{\"value\":2},\"x\":{\"field\":\"x\"},\"y\":{\"field\":\"y\"}},\"id\":\"1a7c0d6e-f781-47a5-b7c4-3d53140e5fbd\",\"type\":\"Line\"},{\"attributes\":{\"overlay\":{\"id\":\"ab9fc19f-41ff-426d-b225-9a99201a3cb5\",\"type\":\"BoxAnnotation\"}},\"id\":\"8729dc1d-7ec5-45f6-a313-db3ec1403361\",\"type\":\"BoxZoomTool\"},{\"attributes\":{},\"id\":\"9ff3ccbf-2ff9-4b41-a884-6a981b51992f\",\"type\":\"HelpTool\"},{\"attributes\":{},\"id\":\"a2dbe450-cf47-4b41-a246-a8b5deb35d7c\",\"type\":\"WheelZoomTool\"},{\"attributes\":{},\"id\":\"01b4aeb3-8bc1-4ccf-8595-cba9b056b7f1\",\"type\":\"PanTool\"},{\"attributes\":{\"callback\":null},\"id\":\"1fd05c97-1566-4710-bfd8-5e7d33bff504\",\"type\":\"DataRange1d\"},{\"attributes\":{\"bottom_units\":\"screen\",\"fill_alpha\":{\"value\":0.5},\"fill_color\":{\"value\":\"lightgrey\"},\"left_units\":\"screen\",\"level\":\"overlay\",\"line_alpha\":{\"value\":1.0},\"line_color\":{\"value\":\"black\"},\"line_dash\":[4,4],\"line_width\":{\"value\":2},\"plot\":null,\"render_mode\":\"css\",\"right_units\":\"screen\",\"top_units\":\"screen\"},\"id\":\"ab9fc19f-41ff-426d-b225-9a99201a3cb5\",\"type\":\"BoxAnnotation\"},{\"attributes\":{\"callback\":null,\"column_names\":[\"x\",\"y\"],\"data\":{\"x\":{\"__ndarray__\":\"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\",\"dtype\":\"float64\",\"shape\":[248]},\"y\":{\"__ndarray__\":\"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\",\"dtype\":\"float64\",\"shape\":[248]}}},\"id\":\"1fccb91b-ce6d-45ed-8473-fc603eea6b37\",\"type\":\"ColumnDataSource\"},{\"attributes\":{},\"id\":\"17da1ab0-1341-4613-83a5-4e0a9fc2c51f\",\"type\":\"LinearScale\"},{\"attributes\":{\"source\":{\"id\":\"1fccb91b-ce6d-45ed-8473-fc603eea6b37\",\"type\":\"ColumnDataSource\"}},\"id\":\"71e50379-350b-45d6-8f18-96c983b86ce2\",\"type\":\"CDSView\"},{\"attributes\":{\"below\":[{\"id\":\"730612ee-e89b-4f14-9fa5-c8eb88933da4\",\"type\":\"LinearAxis\"}],\"left\":[{\"id\":\"a8458066-6d25-4df3-a5ac-f7e6689746dc\",\"type\":\"LinearAxis\"}],\"plot_height\":500,\"plot_width\":500,\"renderers\":[{\"id\":\"730612ee-e89b-4f14-9fa5-c8eb88933da4\",\"type\":\"LinearAxis\"},{\"id\":\"d2b75085-ffa8-47ff-a088-ff8c2c44a3f7\",\"type\":\"Grid\"},{\"id\":\"a8458066-6d25-4df3-a5ac-f7e6689746dc\",\"type\":\"LinearAxis\"},{\"id\":\"f17fb771-4f6b-498c-842b-3acc330dbf7a\",\"type\":\"Grid\"},{\"id\":\"ab9fc19f-41ff-426d-b225-9a99201a3cb5\",\"type\":\"BoxAnnotation\"},{\"id\":\"9071d3e2-e2f2-4dad-acf3-8ca2446f1628\",\"type\":\"GlyphRenderer\"}],\"title\":{\"id\":\"72d5e236-daed-44df-820f-5968e2cf7572\",\"type\":\"Title\"},\"toolbar\":{\"id\":\"3f5f447e-9c8d-454e-b57f-a9a7bd0cf475\",\"type\":\"Toolbar\"},\"x_range\":{\"id\":\"6279fb28-cd86-404b-bcf5-9b5f7d835925\",\"type\":\"DataRange1d\"},\"x_scale\":{\"id\":\"17da1ab0-1341-4613-83a5-4e0a9fc2c51f\",\"type\":\"LinearScale\"},\"y_range\":{\"id\":\"1fd05c97-1566-4710-bfd8-5e7d33bff504\",\"type\":\"DataRange1d\"},\"y_scale\":{\"id\":\"67c3319a-79fb-4c66-8372-06ea798a9abd\",\"type\":\"LinearScale\"}},\"id\":\"ec677602-43f0-4636-831f-0c824b18ce07\",\"subtype\":\"Figure\",\"type\":\"Plot\"},{\"attributes\":{},\"id\":\"672b4c4d-c289-4f9e-b800-729f04513d44\",\"type\":\"BasicTickFormatter\"},{\"attributes\":{\"dimension\":1,\"plot\":{\"id\":\"ec677602-43f0-4636-831f-0c824b18ce07\",\"subtype\":\"Figure\",\"type\":\"Plot\"},\"ticker\":{\"id\":\"465da979-1a61-45f3-b5c2-48c79cba929b\",\"type\":\"BasicTicker\"}},\"id\":\"f17fb771-4f6b-498c-842b-3acc330dbf7a\",\"type\":\"Grid\"},{\"attributes\":{},\"id\":\"465da979-1a61-45f3-b5c2-48c79cba929b\",\"type\":\"BasicTicker\"},{\"attributes\":{\"axis_label\":\"Close Prices\",\"formatter\":{\"id\":\"672b4c4d-c289-4f9e-b800-729f04513d44\",\"type\":\"BasicTickFormatter\"},\"plot\":{\"id\":\"ec677602-43f0-4636-831f-0c824b18ce07\",\"subtype\":\"Figure\",\"type\":\"Plot\"},\"ticker\":{\"id\":\"465da979-1a61-45f3-b5c2-48c79cba929b\",\"type\":\"BasicTicker\"}},\"id\":\"a8458066-6d25-4df3-a5ac-f7e6689746dc\",\"type\":\"LinearAxis\"},{\"attributes\":{\"line_alpha\":{\"value\":0.1},\"line_color\":{\"value\":\"#1f77b4\"},\"line_width\":{\"value\":2},\"x\":{\"field\":\"x\"},\"y\":{\"field\":\"y\"}},\"id\":\"e1de1a67-1a4f-4e83-93db-8f5fbde18790\",\"type\":\"Line\"},{\"attributes\":{},\"id\":\"ce42ebea-298c-44b2-9ae8-84c94ec5e294\",\"type\":\"BasicTickFormatter\"},{\"attributes\":{},\"id\":\"3dae29e5-6c34-4702-8537-e74db5db16fd\",\"type\":\"BasicTicker\"},{\"attributes\":{\"plot\":null,\"text\":\"\"},\"id\":\"72d5e236-daed-44df-820f-5968e2cf7572\",\"type\":\"Title\"},{\"attributes\":{\"plot\":{\"id\":\"ec677602-43f0-4636-831f-0c824b18ce07\",\"subtype\":\"Figure\",\"type\":\"Plot\"},\"ticker\":{\"id\":\"3dae29e5-6c34-4702-8537-e74db5db16fd\",\"type\":\"BasicTicker\"}},\"id\":\"d2b75085-ffa8-47ff-a088-ff8c2c44a3f7\",\"type\":\"Grid\"},{\"attributes\":{\"active_drag\":\"auto\",\"active_inspect\":\"auto\",\"active_scroll\":\"auto\",\"active_tap\":\"auto\",\"tools\":[{\"id\":\"01b4aeb3-8bc1-4ccf-8595-cba9b056b7f1\",\"type\":\"PanTool\"},{\"id\":\"a2dbe450-cf47-4b41-a246-a8b5deb35d7c\",\"type\":\"WheelZoomTool\"},{\"id\":\"8729dc1d-7ec5-45f6-a313-db3ec1403361\",\"type\":\"BoxZoomTool\"},{\"id\":\"cfd2e1f5-bd77-428a-9411-9b62cad7d107\",\"type\":\"SaveTool\"},{\"id\":\"63ae696c-f34f-427a-b97e-cf4a122cf07a\",\"type\":\"ResetTool\"},{\"id\":\"9ff3ccbf-2ff9-4b41-a884-6a981b51992f\",\"type\":\"HelpTool\"}]},\"id\":\"3f5f447e-9c8d-454e-b57f-a9a7bd0cf475\",\"type\":\"Toolbar\"},{\"attributes\":{},\"id\":\"67c3319a-79fb-4c66-8372-06ea798a9abd\",\"type\":\"LinearScale\"},{\"attributes\":{\"callback\":null},\"id\":\"6279fb28-cd86-404b-bcf5-9b5f7d835925\",\"type\":\"DataRange1d\"},{\"attributes\":{\"axis_label\":\"Volume Shocks\",\"formatter\":{\"id\":\"ce42ebea-298c-44b2-9ae8-84c94ec5e294\",\"type\":\"BasicTickFormatter\"},\"plot\":{\"id\":\"ec677602-43f0-4636-831f-0c824b18ce07\",\"subtype\":\"Figure\",\"type\":\"Plot\"},\"ticker\":{\"id\":\"3dae29e5-6c34-4702-8537-e74db5db16fd\",\"type\":\"BasicTicker\"}},\"id\":\"730612ee-e89b-4f14-9fa5-c8eb88933da4\",\"type\":\"LinearAxis\"},{\"attributes\":{},\"id\":\"63ae696c-f34f-427a-b97e-cf4a122cf07a\",\"type\":\"ResetTool\"}],\"root_ids\":[\"ec677602-43f0-4636-831f-0c824b18ce07\"]},\"title\":\"Bokeh Application\",\"version\":\"0.12.10\"}};\n",
       "    var render_items = [{\"docid\":\"6e25fceb-90ab-41ce-84b8-3aed1036f97e\",\"elementid\":\"813b0198-11b1-41ba-a9ea-cf8694d74eec\",\"modelid\":\"ec677602-43f0-4636-831f-0c824b18ce07\"}];\n",
       "\n",
       "    root.Bokeh.embed.embed_items(docs_json, render_items);\n",
       "  }\n",
       "\n",
       "  if (root.Bokeh !== undefined) {\n",
       "    embed_document(root);\n",
       "  } else {\n",
       "    var attempts = 0;\n",
       "    var timer = setInterval(function(root) {\n",
       "      if (root.Bokeh !== undefined) {\n",
       "        embed_document(root);\n",
       "        clearInterval(timer);\n",
       "      }\n",
       "      attempts++;\n",
       "      if (attempts > 100) {\n",
       "        console.log(\"Bokeh: ERROR: Unable to embed document because BokehJS library is missing\")\n",
       "        clearInterval(timer);\n",
       "      }\n",
       "    }, 10, root)\n",
       "  }\n",
       "})(window);"
      ],
      "application/vnd.bokehjs_exec.v0+json": ""
     },
     "metadata": {
      "application/vnd.bokehjs_exec.v0+json": {
       "id": "ec677602-43f0-4636-831f-0c824b18ce07"
      }
     },
     "output_type": "display_data"
    }
   ],
   "source": [
    "fun2('TCS') #Part 2.2"
   ]
  },
  {
   "cell_type": "code",
   "execution_count": null,
   "metadata": {
    "collapsed": true
   },
   "outputs": [],
   "source": []
  },
  {
   "cell_type": "code",
   "execution_count": null,
   "metadata": {
    "collapsed": true
   },
   "outputs": [],
   "source": []
  },
  {
   "cell_type": "code",
   "execution_count": null,
   "metadata": {
    "collapsed": true
   },
   "outputs": [],
   "source": []
  },
  {
   "cell_type": "code",
   "execution_count": null,
   "metadata": {
    "collapsed": true
   },
   "outputs": [],
   "source": []
  },
  {
   "cell_type": "code",
   "execution_count": null,
   "metadata": {},
   "outputs": [],
   "source": []
  }
 ],
 "metadata": {
  "kernelspec": {
   "display_name": "Python 3",
   "language": "python",
   "name": "python3"
  },
  "language_info": {
   "codemirror_mode": {
    "name": "ipython",
    "version": 3
   },
   "file_extension": ".py",
   "mimetype": "text/x-python",
   "name": "python",
   "nbconvert_exporter": "python",
   "pygments_lexer": "ipython3",
   "version": "3.6.3"
  }
 },
 "nbformat": 4,
 "nbformat_minor": 2
}
