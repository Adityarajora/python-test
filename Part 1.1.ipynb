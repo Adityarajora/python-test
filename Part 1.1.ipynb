{
 "cells": [
  {
   "cell_type": "code",
   "execution_count": 6,
   "metadata": {
    "collapsed": true
   },
   "outputs": [],
   "source": [
    "import pandas as pd\n",
    "import nsepy as n\n",
    "from datetime import *\n",
    "import numpy as np"
   ]
  },
  {
   "cell_type": "code",
   "execution_count": 33,
   "metadata": {
    "collapsed": true
   },
   "outputs": [],
   "source": [
    "def fun(): \n",
    "    infy = n.get_history(symbol='INFY', start=date(2015,1,1), end=date(2015,12,31))\n",
    "    tcs = n.get_history(symbol='TCS', start=date(2015,1,1), end=date(2015,12,31))\n",
    "    s1=0\n",
    "    s2=0\n",
    "    j=1\n",
    "    k=4\n",
    "    print('INFY MOVING AVERAGE')\n",
    "    for i in range(15,248,12*5):  \n",
    "        s1=s1+pd.Series.sum(infy['Close'][i:i+5])\n",
    "        print(\"Week \"+str(k)+\":\"+str(s1/(5*j)))\n",
    "        k=k+12\n",
    "        j=j+1  \n",
    "    print(\"_______________________________________________________________________________________________________\")\n",
    "    print('TCS MOVING AVERAGE')\n",
    "    j=1\n",
    "    k=4\n",
    "    for i in range(15,248,12*5):  \n",
    "        s2=s2+pd.Series.sum(tcs['Close'][i:i+5])\n",
    "        print(\"Week \"+str(k)+\":\"+str(s2/(5*j)))\n",
    "        k=k+12\n",
    "        j=j+1    \n",
    "        \n",
    "    "
   ]
  },
  {
   "cell_type": "code",
   "execution_count": 34,
   "metadata": {},
   "outputs": [
    {
     "name": "stdout",
     "output_type": "stream",
     "text": [
      "INFY MOVING AVERAGE\n",
      "Week 4:2167.6099999999997\n",
      "Week 16:2086.1949999999997\n",
      "Week 28:1745.2566666666667\n",
      "Week 40:1585.33\n",
      "_______________________________________________________________________________________________________\n",
      "TCS MOVING AVERAGE\n",
      "Week 4:2520.6899999999996\n",
      "Week 16:2503.625\n",
      "Week 28:2517.19\n",
      "Week 40:2509.9275000000002\n"
     ]
    }
   ],
   "source": [
    "fun()"
   ]
  },
  {
   "cell_type": "code",
   "execution_count": null,
   "metadata": {
    "collapsed": true
   },
   "outputs": [],
   "source": []
  },
  {
   "cell_type": "code",
   "execution_count": null,
   "metadata": {
    "collapsed": true
   },
   "outputs": [],
   "source": []
  },
  {
   "cell_type": "code",
   "execution_count": null,
   "metadata": {
    "collapsed": true
   },
   "outputs": [],
   "source": []
  },
  {
   "cell_type": "code",
   "execution_count": null,
   "metadata": {
    "collapsed": true
   },
   "outputs": [],
   "source": []
  }
 ],
 "metadata": {
  "kernelspec": {
   "display_name": "Python 3",
   "language": "python",
   "name": "python3"
  },
  "language_info": {
   "codemirror_mode": {
    "name": "ipython",
    "version": 3
   },
   "file_extension": ".py",
   "mimetype": "text/x-python",
   "name": "python",
   "nbconvert_exporter": "python",
   "pygments_lexer": "ipython3",
   "version": "3.6.3"
  }
 },
 "nbformat": 4,
 "nbformat_minor": 2
}
